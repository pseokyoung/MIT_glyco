{
 "cells": [
  {
   "cell_type": "code",
   "execution_count": 8,
   "id": "d83991fc",
   "metadata": {
    "ExecuteTime": {
     "end_time": "2023-01-23T19:32:54.766982Z",
     "start_time": "2023-01-23T19:32:54.762082Z"
    }
   },
   "outputs": [],
   "source": [
    "import shutil\n",
    "import pandas as pd\n",
    "import os"
   ]
  },
  {
   "cell_type": "code",
   "execution_count": 9,
   "id": "5ac51204",
   "metadata": {
    "ExecuteTime": {
     "end_time": "2023-01-23T19:32:55.369862Z",
     "start_time": "2023-01-23T19:32:54.958769Z"
    }
   },
   "outputs": [
    {
     "data": {
      "text/plain": [
       "272"
      ]
     },
     "execution_count": 9,
     "metadata": {},
     "output_type": "execute_result"
    }
   ],
   "source": [
    "protein_file = pd.read_csv('v4_data_all_sites.csv')\n",
    "protein_list = list(protein_file.protein.unique())\n",
    "len(protein_list)"
   ]
  },
  {
   "cell_type": "code",
   "execution_count": 23,
   "id": "af0eff4c",
   "metadata": {
    "ExecuteTime": {
     "end_time": "2023-01-23T19:35:23.325501Z",
     "start_time": "2023-01-23T19:35:23.307005Z"
    }
   },
   "outputs": [
    {
     "data": {
      "text/plain": [
       "1"
      ]
     },
     "execution_count": 23,
     "metadata": {},
     "output_type": "execute_result"
    }
   ],
   "source": [
    "match."
   ]
  },
  {
   "cell_type": "code",
   "execution_count": 17,
   "id": "1dee4a51",
   "metadata": {
    "ExecuteTime": {
     "end_time": "2023-01-23T19:34:48.382145Z",
     "start_time": "2023-01-23T19:34:48.364284Z"
    }
   },
   "outputs": [
    {
     "ename": "TypeError",
     "evalue": "list indices must be integers or slices, not list",
     "output_type": "error",
     "traceback": [
      "\u001b[1;31m---------------------------------------------------------------------------\u001b[0m",
      "\u001b[1;31mTypeError\u001b[0m                                 Traceback (most recent call last)",
      "Cell \u001b[1;32mIn[17], line 1\u001b[0m\n\u001b[1;32m----> 1\u001b[0m protein \u001b[38;5;241m=\u001b[39m \u001b[43mprotein_list\u001b[49m\u001b[43m[\u001b[49m\u001b[43mmatch\u001b[49m\u001b[43m]\u001b[49m\n",
      "\u001b[1;31mTypeError\u001b[0m: list indices must be integers or slices, not list"
     ]
    }
   ],
   "source": [
    "protein = protein_list[match]"
   ]
  },
  {
   "cell_type": "code",
   "execution_count": 14,
   "id": "d2cf666e",
   "metadata": {
    "ExecuteTime": {
     "end_time": "2023-01-23T19:34:08.855129Z",
     "start_time": "2023-01-23T19:34:08.830367Z"
    }
   },
   "outputs": [
    {
     "ename": "ValueError",
     "evalue": "list.remove(x): x not in list",
     "output_type": "error",
     "traceback": [
      "\u001b[1;31m---------------------------------------------------------------------------\u001b[0m",
      "\u001b[1;31mValueError\u001b[0m                                Traceback (most recent call last)",
      "Cell \u001b[1;32mIn[14], line 6\u001b[0m\n\u001b[0;32m      4\u001b[0m only_charge_folders \u001b[38;5;241m=\u001b[39m os\u001b[38;5;241m.\u001b[39mlistdir(\u001b[38;5;124m'\u001b[39m\u001b[38;5;124m./protein_charge\u001b[39m\u001b[38;5;124m'\u001b[39m)\n\u001b[0;32m      5\u001b[0m \u001b[38;5;28;01mfor\u001b[39;00m name \u001b[38;5;129;01min\u001b[39;00m dict_match:\n\u001b[1;32m----> 6\u001b[0m     \u001b[43monly_charge_folders\u001b[49m\u001b[38;5;241;43m.\u001b[39;49m\u001b[43mremove\u001b[49m\u001b[43m(\u001b[49m\u001b[43mname\u001b[49m\u001b[43m)\u001b[49m\n\u001b[0;32m      8\u001b[0m \u001b[38;5;28mprint\u001b[39m(\u001b[38;5;124m\"\u001b[39m\u001b[38;5;124mthese proteins do not match with their names\u001b[39m\u001b[38;5;124m\"\u001b[39m)\n\u001b[0;32m      9\u001b[0m display(only_charge_folders)\n",
      "\u001b[1;31mValueError\u001b[0m: list.remove(x): x not in list"
     ]
    }
   ],
   "source": [
    "match = [os.path.exists(f\"./protein_charge/{x}\") for x in protein_list]\n",
    "dict_match = dict(zip(protein_list, match))\n",
    "\n",
    "    \n",
    "print(\"these proteins do not match with their names\")\n",
    "display(only_charge_folders)\n",
    "print(\"whether the name matches or not\")\n",
    "display(dict_match)"
   ]
  },
  {
   "cell_type": "code",
   "execution_count": 26,
   "id": "42645d68",
   "metadata": {
    "ExecuteTime": {
     "end_time": "2023-01-23T19:41:22.331054Z",
     "start_time": "2023-01-23T19:41:22.309044Z"
    }
   },
   "outputs": [
    {
     "data": {
      "text/plain": [
       "['A0A024RAY2',\n",
       " 'features-all-names.csv',\n",
       " 'P0CG62',\n",
       " 'P63249',\n",
       " 'P68406',\n",
       " 'Q4R561_P60710',\n",
       " 'Q62381',\n",
       " 'Q69ZI1',\n",
       " 'Q80TI1',\n",
       " 'Q80TR8',\n",
       " 'Q80YE7',\n",
       " 'Q8BXL9',\n",
       " 'Q91YE8',\n",
       " 'Q9WVB1']"
      ]
     },
     "execution_count": 26,
     "metadata": {},
     "output_type": "execute_result"
    }
   ],
   "source": [
    "only_charge_folders = os.listdir('./protein_charge')\n",
    "protein_match = [name for name in protein_list if exists(f\"./protein_charge/{name}\")]\n",
    "for name in protein_match:\n",
    "    only_charge_folders.remove(name)\n",
    "    \n",
    "only_charge_folders"
   ]
  },
  {
   "cell_type": "code",
   "execution_count": 32,
   "id": "e8caf417",
   "metadata": {
    "ExecuteTime": {
     "end_time": "2023-01-23T20:06:49.429865Z",
     "start_time": "2023-01-23T20:06:48.029832Z"
    }
   },
   "outputs": [],
   "source": [
    "for name in protein_match:\n",
    "    src_path = f'./protein_charge/{name}/combined-output-all-features.csv'\n",
    "    dst_path = f'./data/charge/{name}.csv'\n",
    "    shutil.copy(src_path, dst_path)"
   ]
  },
  {
   "cell_type": "code",
   "execution_count": null,
   "id": "a58096c4",
   "metadata": {},
   "outputs": [],
   "source": []
  }
 ],
 "metadata": {
  "kernelspec": {
   "display_name": "gnn",
   "language": "python",
   "name": "gnn"
  },
  "language_info": {
   "codemirror_mode": {
    "name": "ipython",
    "version": 3
   },
   "file_extension": ".py",
   "mimetype": "text/x-python",
   "name": "python",
   "nbconvert_exporter": "python",
   "pygments_lexer": "ipython3",
   "version": "3.10.9"
  },
  "toc": {
   "base_numbering": 1,
   "nav_menu": {},
   "number_sections": true,
   "sideBar": true,
   "skip_h1_title": false,
   "title_cell": "Table of Contents",
   "title_sidebar": "Contents",
   "toc_cell": false,
   "toc_position": {},
   "toc_section_display": true,
   "toc_window_display": false
  }
 },
 "nbformat": 4,
 "nbformat_minor": 5
}
