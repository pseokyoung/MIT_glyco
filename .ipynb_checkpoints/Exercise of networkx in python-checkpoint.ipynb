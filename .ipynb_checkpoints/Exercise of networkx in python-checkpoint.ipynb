{
 "cells": [
  {
   "cell_type": "code",
   "execution_count": 8,
   "id": "4e2a6806",
   "metadata": {
    "ExecuteTime": {
     "end_time": "2022-12-08T15:58:47.796681Z",
     "start_time": "2022-12-08T15:58:47.789667Z"
    }
   },
   "outputs": [],
   "source": [
    "import re\n",
    "from itertools import count\n",
    "from typing import Dict, List, Optional, Tuple, Union\n",
    "\n",
    "import matplotlib\n",
    "import matplotlib.pyplot as plt\n",
    "import networkx as nx\n",
    "import numpy as np\n",
    "import plotly.colors as co\n",
    "import plotly.express as px\n",
    "import plotly.graph_objects as go\n",
    "import seaborn as sns\n",
    "from loguru import logger as log\n",
    "from mpl_toolkits.mplot3d import Axes3D\n",
    "\n"
   ]
  },
  {
   "cell_type": "code",
   "execution_count": 105,
   "id": "2695c97b",
   "metadata": {
    "ExecuteTime": {
     "end_time": "2022-12-08T16:43:31.718900Z",
     "start_time": "2022-12-08T16:43:31.644053Z"
    }
   },
   "outputs": [
    {
     "data": {
      "image/png": "[encoded data removed]",
      "text/plain": [
       "<Figure size 640x480 with 1 Axes>"
      ]
     },
     "metadata": {},
     "output_type": "display_data"
    }
   ],
   "source": [
    "g1 = nx.Graph()\n",
    "\n",
    "# add nodes\n",
    "# graph.add_node('a' ,1, 2, or 3)\n",
    "# graph.add_nodes_from(list)\n",
    "\n",
    "# remove nodes\n",
    "# graph.revmoe_node('a', 1, 2, or 3)\n",
    "\n",
    "\n",
    "node_list = [\n",
    "    1, 2, 3, 4, 5\n",
    "]\n",
    "coords = [\n",
    "    (0.1, 0.2),\n",
    "    (0.3, 0.3),\n",
    "    (0.6, 0.4),\n",
    "    (0.10, 0.5),\n",
    "    (0.15, 0.6),    \n",
    "]\n",
    "g1.add_nodes_from(node_list, something=coords)\n",
    "\n",
    "edge_list = [\n",
    "    (1,2),\n",
    "    (4,1),\n",
    "]\n",
    "g1.add_edges_from(edge_list)\n",
    "\n",
    "wedge_list = [\n",
    "    (1,5, 5),\n",
    "    (5,3, 7),\n",
    "    (2,5, 10)\n",
    "]\n",
    "g1.add_weighted_edges_from(wedge_list)\n",
    "\n",
    "pos = {\n",
    "    1 : (0.1, 0.2),\n",
    "    2 : (0.3, 0.3),\n",
    "    3 : (0.6, 0.4),\n",
    "    4 : (0.10, 0.5),\n",
    "    5 : (0.15, 0.6),\n",
    "}\n",
    "\n",
    "\n",
    "nx.draw(g1, with_labels=True)"
   ]
  },
  {
   "cell_type": "code",
   "execution_count": 57,
   "id": "4a1daec3",
   "metadata": {
    "ExecuteTime": {
     "end_time": "2022-12-08T16:20:14.185205Z",
     "start_time": "2022-12-08T16:20:14.171191Z"
    }
   },
   "outputs": [
    {
     "data": {
      "text/plain": [
       "DegreeView({1: 3, 2: 2, 3: 1, 4: 1, 5: 3})"
      ]
     },
     "execution_count": 57,
     "metadata": {},
     "output_type": "execute_result"
    }
   ],
   "source": [
    "g1.degree"
   ]
  },
  {
   "cell_type": "code",
   "execution_count": 58,
   "id": "301032b5",
   "metadata": {
    "ExecuteTime": {
     "end_time": "2022-12-08T16:20:14.498355Z",
     "start_time": "2022-12-08T16:20:14.483661Z"
    }
   },
   "outputs": [
    {
     "data": {
      "text/plain": [
       "NodeView((1, 2, 3, 4, 5))"
      ]
     },
     "execution_count": 58,
     "metadata": {},
     "output_type": "execute_result"
    }
   ],
   "source": [
    "g1.nodes"
   ]
  },
  {
   "cell_type": "code",
   "execution_count": 59,
   "id": "89649040",
   "metadata": {
    "ExecuteTime": {
     "end_time": "2022-12-08T16:20:14.669422Z",
     "start_time": "2022-12-08T16:20:14.660837Z"
    }
   },
   "outputs": [
    {
     "data": {
      "text/plain": [
       "EdgeView([(1, 2), (1, 4), (1, 5), (2, 5), (3, 5)])"
      ]
     },
     "execution_count": 59,
     "metadata": {},
     "output_type": "execute_result"
    }
   ],
   "source": [
    "g1.edges"
   ]
  },
  {
   "cell_type": "code",
   "execution_count": 60,
   "id": "d1733785",
   "metadata": {
    "ExecuteTime": {
     "end_time": "2022-12-08T16:20:14.857697Z",
     "start_time": "2022-12-08T16:20:14.838277Z"
    }
   },
   "outputs": [
    {
     "data": {
      "text/plain": [
       "AdjacencyView({1: {2: {}, 4: {}, 5: {}}, 2: {1: {}, 5: {}}, 3: {5: {}}, 4: {1: {}}, 5: {1: {}, 3: {}, 2: {}}})"
      ]
     },
     "execution_count": 60,
     "metadata": {},
     "output_type": "execute_result"
    }
   ],
   "source": [
    "g1.adj"
   ]
  },
  {
   "cell_type": "code",
   "execution_count": 63,
   "id": "c2ff9d1f",
   "metadata": {
    "ExecuteTime": {
     "end_time": "2022-12-08T16:20:41.286721Z",
     "start_time": "2022-12-08T16:20:41.276979Z"
    }
   },
   "outputs": [
    {
     "data": {
      "text/plain": [
       "5"
      ]
     },
     "execution_count": 63,
     "metadata": {},
     "output_type": "execute_result"
    }
   ],
   "source": [
    "g1.number_of_nodes()"
   ]
  },
  {
   "cell_type": "code",
   "execution_count": 65,
   "id": "b14668d2",
   "metadata": {
    "ExecuteTime": {
     "end_time": "2022-12-08T16:20:47.426736Z",
     "start_time": "2022-12-08T16:20:47.417225Z"
    }
   },
   "outputs": [
    {
     "data": {
      "text/plain": [
       "5"
      ]
     },
     "execution_count": 65,
     "metadata": {},
     "output_type": "execute_result"
    }
   ],
   "source": [
    "g1.number_of_edges()"
   ]
  },
  {
   "cell_type": "code",
   "execution_count": 71,
   "id": "2560aa43",
   "metadata": {
    "ExecuteTime": {
     "end_time": "2022-12-08T16:21:43.973649Z",
     "start_time": "2022-12-08T16:21:43.953716Z"
    }
   },
   "outputs": [
    {
     "name": "stderr",
     "output_type": "stream",
     "text": [
      "C:\\Users\\honsu\\AppData\\Local\\Temp\\ipykernel_10312\\3287995715.py:1: DeprecationWarning: info is deprecated and will be removed in version 3.0.\n",
      "\n",
      "  nx.info(g1)\n"
     ]
    },
    {
     "data": {
      "text/plain": [
       "'Graph with 5 nodes and 5 edges'"
      ]
     },
     "execution_count": 71,
     "metadata": {},
     "output_type": "execute_result"
    }
   ],
   "source": [
    "nx.info(g1)"
   ]
  },
  {
   "cell_type": "code",
   "execution_count": 85,
   "id": "f4298d84",
   "metadata": {
    "ExecuteTime": {
     "end_time": "2022-12-08T16:28:56.453287Z",
     "start_time": "2022-12-08T16:28:56.444418Z"
    }
   },
   "outputs": [
    {
     "data": {
      "text/plain": [
       "{(1, 5): 5, (2, 5): 10, (3, 5): 7}"
      ]
     },
     "execution_count": 85,
     "metadata": {},
     "output_type": "execute_result"
    }
   ],
   "source": [
    "nx.get_edge_attributes(g1,'weight')"
   ]
  },
  {
   "cell_type": "code",
   "execution_count": 106,
   "id": "b8c7b434",
   "metadata": {
    "ExecuteTime": {
     "end_time": "2022-12-08T16:43:35.206805Z",
     "start_time": "2022-12-08T16:43:35.193646Z"
    }
   },
   "outputs": [
    {
     "data": {
      "text/plain": [
       "{}"
      ]
     },
     "execution_count": 106,
     "metadata": {},
     "output_type": "execute_result"
    }
   ],
   "source": [
    "nx.get_node_attributes(g1, 'coords')"
   ]
  }
 ],
 "metadata": {
  "kernelspec": {
   "display_name": "glyco",
   "language": "python",
   "name": "glyco"
  },
  "language_info": {
   "codemirror_mode": {
    "name": "ipython",
    "version": 3
   },
   "file_extension": ".py",
   "mimetype": "text/x-python",
   "name": "python",
   "nbconvert_exporter": "python",
   "pygments_lexer": "ipython3",
   "version": "3.9.13"
  },
  "toc": {
   "base_numbering": 1,
   "nav_menu": {},
   "number_sections": true,
   "sideBar": true,
   "skip_h1_title": false,
   "title_cell": "Table of Contents",
   "title_sidebar": "Contents",
   "toc_cell": false,
   "toc_position": {},
   "toc_section_display": true,
   "toc_window_display": false
  }
 },
 "nbformat": 4,
 "nbformat_minor": 5
}
