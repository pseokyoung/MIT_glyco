{
 "cells": [
  {
   "cell_type": "code",
   "execution_count": 11,
   "id": "ea0c5c47-0e14-4d3d-9c46-97bae7d9e386",
   "metadata": {
    "ExecuteTime": {
     "end_time": "2022-11-10T05:37:32.208179Z",
     "start_time": "2022-11-10T05:37:32.201189Z"
    }
   },
   "outputs": [
    {
     "data": {
      "text/plain": [
       "'D:\\\\project\\\\MIT_glyco\\\\OGP-master'"
      ]
     },
     "execution_count": 11,
     "metadata": {},
     "output_type": "execute_result"
    }
   ],
   "source": [
    "import pandas as pd\n",
    "from os import getcwd \n",
    "from os.path import exists\n",
    "getcwd()"
   ]
  },
  {
   "cell_type": "code",
   "execution_count": 2,
   "id": "68a784d6-05e3-4ff0-a5ab-107b921130a4",
   "metadata": {
    "ExecuteTime": {
     "end_time": "2022-11-10T05:33:34.469135Z",
     "start_time": "2022-11-10T05:33:34.458136Z"
    }
   },
   "outputs": [],
   "source": [
    "flex_path = \"./dynamine_results\" # directory of flexibility results\n",
    "angle_path = \"./spider3_results\" # directory of angle related information"
   ]
  },
  {
   "cell_type": "code",
   "execution_count": 15,
   "id": "030919c5-c2cc-4773-9fac-09258d647570",
   "metadata": {
    "ExecuteTime": {
     "end_time": "2022-11-10T05:45:46.603516Z",
     "start_time": "2022-11-10T05:45:39.881665Z"
    }
   },
   "outputs": [],
   "source": [
    "# load O-GlcNAcylated site data\n",
    "site_data = pd.read_csv(\"all_sites_with_colnames.csv\") \n",
    "\n",
    "temp_name = 'temp'\n",
    "for pro_name, pos_site in site_data[[\"name\", \"site\"]].values: # protein name & positive site\n",
    "    if pro_name != temp_name: # check whether the protein is same with before one\n",
    "        if temp_name != 'temp':\n",
    "            if not exists(f\"./protein_sequence/{temp_name}.csv\"):\n",
    "                protein_df.to_csv(f\"./protein_sequence/{temp_name}.csv\", index_label=[pro_name])\n",
    "            \n",
    "        ## load flex data\n",
    "        data = pd.read_fwf(f\"{flex_path}/{pro_name}_backbone.pred\", header=None)\n",
    "        notes = data[:11] # this includes protein name and citation address\n",
    "        # display(notes)\n",
    "        ## split values from raw flexibility data\n",
    "        flex = data[11:].copy().reset_index(drop=True)\n",
    "        flex.columns = [\"values\"]\n",
    "        flex['SEQ'] = flex['values'].apply(lambda x: x.split()[0])\n",
    "        flex['flexibility'] = flex['values'].apply(lambda x: x.split()[1])\n",
    "\n",
    "        ## load angle data\n",
    "        angles = pd.read_csv(f\"{angle_path}/{pro_name}.spd33\")\n",
    "        ## split values from raw angle data\n",
    "        columns = angles.columns[0].split()\n",
    "        angles.columns = [\"values\"]\n",
    "\n",
    "        for i, column in enumerate(columns):\n",
    "            angles[column] = angles['values'].apply(lambda x: x.split()[i])\n",
    "\n",
    "        flex_values = flex.iloc[:,1:]\n",
    "        angle_values = angles.iloc[:,3:]\n",
    "        protein_df = pd.concat([flex_values, angle_values], axis=1)\n",
    "\n",
    "        protein_df.index.name = pro_name\n",
    "        \n",
    "        protein_df[\"positive\"] = 0\n",
    "        protein_df.loc[pos_site-1, \"positive\"] = 1\n",
    "\n",
    "        temp_name = pro_name\n",
    "        \n",
    "    else:\n",
    "        protein_df.loc[pos_site-1, \"positive\"] = 1\n",
    "protein_df.to_csv(f\"./protein_sequence/{temp_name}.csv\", index_label=[pro_name])"
   ]
  }
 ],
 "metadata": {
  "kernelspec": {
   "display_name": "glyco",
   "language": "python",
   "name": "glyco"
  },
  "language_info": {
   "codemirror_mode": {
    "name": "ipython",
    "version": 3
   },
   "file_extension": ".py",
   "mimetype": "text/x-python",
   "name": "python",
   "nbconvert_exporter": "python",
   "pygments_lexer": "ipython3",
   "version": "3.9.13"
  },
  "toc": {
   "base_numbering": 1,
   "nav_menu": {},
   "number_sections": true,
   "sideBar": true,
   "skip_h1_title": false,
   "title_cell": "Table of Contents",
   "title_sidebar": "Contents",
   "toc_cell": false,
   "toc_position": {},
   "toc_section_display": true,
   "toc_window_display": false
  }
 },
 "nbformat": 4,
 "nbformat_minor": 5
}
