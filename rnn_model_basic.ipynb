{
 "cells": [
  {
   "cell_type": "markdown",
   "id": "24294f88",
   "metadata": {
    "id": "24294f88"
   },
   "source": [
    "# header"
   ]
  },
  {
   "cell_type": "code",
   "execution_count": null,
   "id": "c7446c27",
   "metadata": {
    "ExecuteTime": {
     "end_time": "2023-01-27T04:55:28.416589Z",
     "start_time": "2023-01-27T04:55:28.391198Z"
    },
    "colab": {
     "base_uri": "https://localhost:8080/"
    },
    "executionInfo": {
     "elapsed": 14600,
     "status": "ok",
     "timestamp": 1674833715142,
     "user": {
      "displayName": "SEOKYOUNG HONG",
      "userId": "15432326928825214179"
     },
     "user_tz": 300
    },
    "id": "c7446c27",
    "outputId": "5af9bb7c-ede5-4902-c4f5-79bb49dd2592"
   },
   "outputs": [
    {
     "name": "stdout",
     "output_type": "stream",
     "text": [
      "Mounted at /content/drive\n"
     ]
    }
   ],
   "source": [
    "'''\n",
    "function ConnectButton(){\n",
    "    console.log(\"Connect pushed\"); \n",
    "    document.querySelector(\"#top-toolbar > colab-connect-button\").shadowRoot.querySelector(\"#connect\").click() \n",
    "}\n",
    "\n",
    "setInterval(ConnectButton,60000);\n",
    "'''\n",
    "\n",
    "from google.colab import drive\n",
    "from os import chdir\n",
    "\n",
    "drive.mount('/content/drive')\n",
    "project_path = '/content/drive/MyDrive/Gproject/MIT_glyco'\n",
    "chdir(project_path)"
   ]
  },
  {
   "cell_type": "code",
   "execution_count": null,
   "id": "6ad22c49",
   "metadata": {
    "ExecuteTime": {
     "end_time": "2023-01-27T04:55:29.678026Z",
     "start_time": "2023-01-27T04:55:28.787488Z"
    },
    "colab": {
     "base_uri": "https://localhost:8080/"
    },
    "executionInfo": {
     "elapsed": 898,
     "status": "ok",
     "timestamp": 1674833716037,
     "user": {
      "displayName": "SEOKYOUNG HONG",
      "userId": "15432326928825214179"
     },
     "user_tz": 300
    },
    "id": "6ad22c49",
    "outputId": "483bdf95-7180-4b83-a7ff-a71c772e5b38"
   },
   "outputs": [
    {
     "name": "stdout",
     "output_type": "stream",
     "text": [
      "/content/drive/MyDrive/Gproject/MIT_glyco\n"
     ]
    }
   ],
   "source": [
    "import pandas as pd\n",
    "import numpy as np\n",
    "\n",
    "import os\n",
    "from os.path import exists\n",
    "print(os.getcwd()) # current working directory\n",
    "\n",
    "update = False"
   ]
  },
  {
   "cell_type": "code",
   "execution_count": null,
   "id": "658b6b87",
   "metadata": {
    "ExecuteTime": {
     "end_time": "2023-01-27T04:55:31.174366Z",
     "start_time": "2023-01-27T04:55:30.163390Z"
    },
    "colab": {
     "base_uri": "https://localhost:8080/"
    },
    "executionInfo": {
     "elapsed": 991,
     "status": "ok",
     "timestamp": 1674833717024,
     "user": {
      "displayName": "SEOKYOUNG HONG",
      "userId": "15432326928825214179"
     },
     "user_tz": 300
    },
    "id": "658b6b87",
    "outputId": "10c964da-7af9-42fe-8a2e-114132d74aaa"
   },
   "outputs": [
    {
     "name": "stdout",
     "output_type": "stream",
     "text": [
      "total number of proteins:       272\n",
      "total number of samples:        257578\n",
      "total number of positive sites: 529\n",
      "total number of negative sites: 257049\n"
     ]
    }
   ],
   "source": [
    "load_name = \"./data/data_for_ml.csv\"\n",
    "dataset = pd.read_csv(load_name)\n",
    "protein_list = list(dataset.protein.unique())\n",
    "\n",
    "positive = dataset[dataset['positivity']==1]\n",
    "negative = dataset[dataset['positivity']==0]\n",
    "\n",
    "print(\"total number of proteins:      \", len(dataset.protein.unique()))\n",
    "print(\"total number of samples:       \", len(dataset))\n",
    "print(\"total number of positive sites:\", len(positive))\n",
    "print(\"total number of negative sites:\", len(negative))"
   ]
  },
  {
   "cell_type": "markdown",
   "id": "5b013c15",
   "metadata": {
    "id": "5b013c15"
   },
   "source": [
    "## parameter settings"
   ]
  },
  {
   "cell_type": "code",
   "execution_count": null,
   "id": "a6f71134",
   "metadata": {
    "ExecuteTime": {
     "end_time": "2023-01-27T05:00:18.090369Z",
     "start_time": "2023-01-27T05:00:18.052453Z"
    },
    "id": "a6f71134"
   },
   "outputs": [],
   "source": [
    "from src.Data import *\n",
    "from src.Preprocessing import *\n",
    "from src.models import *\n",
    "\n",
    "variables = xy_variables()\n",
    "test_size = 0.2\n",
    "valid_size = test_size/(1-test_size)\n",
    "\n",
    "import random\n",
    "random_state = 1\n",
    "n_cv = 10\n",
    "\n",
    "hpo_counts = 30\n",
    "hpo_config = {\n",
    "    \"n_layers\" : range(1,11),\n",
    "    \"n_neurons\" : [16, 32, 64, 128, 256]\n",
    "}\n",
    "metrics = ['rnn_layers', 'rnn_neurons', 'dnn_layers', 'dnn_neurons', \n",
    "           'epoch', 'time', 'loss', 'val_loss', 'test_loss', 'accuracy', 'precision', 'recall', 'f1']\n",
    "method = \"random\""
   ]
  },
  {
   "cell_type": "markdown",
   "id": "cbf8eccc",
   "metadata": {
    "id": "cbf8eccc"
   },
   "source": [
    "# model"
   ]
  },
  {
   "cell_type": "code",
   "execution_count": null,
   "id": "1e84ab53",
   "metadata": {
    "ExecuteTime": {
     "end_time": "2023-01-27T05:00:19.951707Z",
     "start_time": "2023-01-27T05:00:19.765940Z"
    },
    "colab": {
     "base_uri": "https://localhost:8080/",
     "height": 725
    },
    "executionInfo": {
     "elapsed": 207,
     "status": "ok",
     "timestamp": 1674833721065,
     "user": {
      "displayName": "SEOKYOUNG HONG",
      "userId": "15432326928825214179"
     },
     "user_tz": 300
    },
    "id": "1e84ab53",
    "outputId": "7573267a-2b03-4795-abae-74a40a859426",
    "scrolled": false
   },
   "outputs": [
    {
     "name": "stdout",
     "output_type": "stream",
     "text": [
      "11 x_cts: ['ASA', 'Phi', 'Psi', 'Theta(i-1=>i+1)', 'Tau(i-2=>i+2)', 'HSE_alpha_up', 'HSE_alpha_down', 'P(C)', 'P(H)', 'P(E)', 'flexibility']\n",
      "2 x_cat: ['SEQ', 'SS']\n",
      "1 y_label: ['positivity']\n",
      "dummy x shape: (257578, 34)\n",
      "dummy y shape: (257578, 1)\n"
     ]
    },
    {
     "data": {
      "text/plain": [
       "{0: 'ASA',\n",
       " 1: 'Phi',\n",
       " 2: 'Psi',\n",
       " 3: 'Theta(i-1=>i+1)',\n",
       " 4: 'Tau(i-2=>i+2)',\n",
       " 5: 'HSE_alpha_up',\n",
       " 6: 'HSE_alpha_down',\n",
       " 7: 'P(C)',\n",
       " 8: 'P(H)',\n",
       " 9: 'P(E)',\n",
       " 10: 'flexibility',\n",
       " 11: 'SEQ_A',\n",
       " 12: 'SEQ_C',\n",
       " 13: 'SEQ_D',\n",
       " 14: 'SEQ_E',\n",
       " 15: 'SEQ_F',\n",
       " 16: 'SEQ_G',\n",
       " 17: 'SEQ_H',\n",
       " 18: 'SEQ_I',\n",
       " 19: 'SEQ_K',\n",
       " 20: 'SEQ_L',\n",
       " 21: 'SEQ_M',\n",
       " 22: 'SEQ_N',\n",
       " 23: 'SEQ_P',\n",
       " 24: 'SEQ_Q',\n",
       " 25: 'SEQ_R',\n",
       " 26: 'SEQ_S',\n",
       " 27: 'SEQ_T',\n",
       " 28: 'SEQ_V',\n",
       " 29: 'SEQ_W',\n",
       " 30: 'SEQ_Y',\n",
       " 31: 'SS_C',\n",
       " 32: 'SS_E',\n",
       " 33: 'SS_H'}"
      ]
     },
     "metadata": {},
     "output_type": "display_data"
    }
   ],
   "source": [
    "model_name = 'rnn_basic'\n",
    "\n",
    "x_cts   = variables.x_cts_original\n",
    "x_cat   = variables.x_cat_original\n",
    "y_label = variables.y_label\n",
    "\n",
    "print(f\"{len(x_cts)} x_cts: {x_cts}\")\n",
    "print(f\"{len(x_cat)} x_cat: {x_cat}\")\n",
    "print(f\"{len(y_label)} y_label: {y_label}\")\n",
    "\n",
    "data_x, data_y = df_to_dummy(dataset, x_cts, x_cat, y_label)\n",
    "display(dict(zip(range(len(data_x.columns)), data_x.columns)))"
   ]
  },
  {
   "cell_type": "code",
   "execution_count": null,
   "id": "ef6095ad",
   "metadata": {
    "ExecuteTime": {
     "end_time": "2023-01-27T05:01:14.865110Z",
     "start_time": "2023-01-27T05:00:49.794016Z"
    },
    "id": "ef6095ad"
   },
   "outputs": [],
   "source": [
    "window_size = 10\n",
    "\n",
    "rnn_input  = []\n",
    "rnn_output = []\n",
    "\n",
    "for name in protein_list:\n",
    "    load_path = f'./data/data_for_ml/{name}.csv'\n",
    "    temp = pd.read_csv(load_path)\n",
    "    temp_x, temp_y = custom_dummy(temp, x_cts, x_cat, y_label)\n",
    "    \n",
    "    temp_input, temp_output = data_to_sequence(temp_x, temp_y, window_size)\n",
    "    rnn_input.append(temp_input)\n",
    "    rnn_output.append(temp_output)\n",
    "    \n",
    "rnn_input  = np.concatenate(rnn_input, axis=0)\n",
    "rnn_output = np.concatenate(rnn_output, axis=0)"
   ]
  },
  {
   "cell_type": "markdown",
   "id": "da2dc24a",
   "metadata": {
    "id": "da2dc24a"
   },
   "source": [
    "## cross validation"
   ]
  },
  {
   "cell_type": "code",
   "execution_count": null,
   "id": "0cca083e",
   "metadata": {
    "ExecuteTime": {
     "start_time": "2023-01-27T04:47:35.765Z"
    },
    "colab": {
     "base_uri": "https://localhost:8080/",
     "height": 363
    },
    "executionInfo": {
     "elapsed": 320,
     "status": "ok",
     "timestamp": 1674833788557,
     "user": {
      "displayName": "SEOKYOUNG HONG",
      "userId": "15432326928825214179"
     },
     "user_tz": 300
    },
    "id": "0cca083e",
    "outputId": "67f93444-7cd5-48b9-df9e-a68ad4febc43"
   },
   "outputs": [
    {
     "data": {
      "text/html": [
       "\n",
       "  <div id=\"df-7fb60462-e63e-4063-b7cf-8301a8458d99\">\n",
       "    <div class=\"colab-df-container\">\n",
       "      <div>\n",
       "<style scoped>\n",
       "    .dataframe tbody tr th:only-of-type {\n",
       "        vertical-align: middle;\n",
       "    }\n",
       "\n",
       "    .dataframe tbody tr th {\n",
       "        vertical-align: top;\n",
       "    }\n",
       "\n",
       "    .dataframe thead th {\n",
       "        text-align: right;\n",
       "    }\n",
       "</style>\n",
       "<table border=\"1\" class=\"dataframe\">\n",
       "  <thead>\n",
       "    <tr style=\"text-align: right;\">\n",
       "      <th></th>\n",
       "      <th>rnn_layers</th>\n",
       "      <th>rnn_neurons</th>\n",
       "      <th>dnn_layers</th>\n",
       "      <th>dnn_neurons</th>\n",
       "      <th>epoch</th>\n",
       "      <th>time</th>\n",
       "      <th>loss</th>\n",
       "      <th>val_loss</th>\n",
       "      <th>test_loss</th>\n",
       "      <th>accuracy</th>\n",
       "      <th>precision</th>\n",
       "      <th>recall</th>\n",
       "      <th>f1</th>\n",
       "    </tr>\n",
       "  </thead>\n",
       "  <tbody>\n",
       "    <tr>\n",
       "      <th>0</th>\n",
       "      <td>2</td>\n",
       "      <td>100</td>\n",
       "      <td>5</td>\n",
       "      <td>100</td>\n",
       "      <td>74</td>\n",
       "      <td>18.674</td>\n",
       "      <td>0.003092</td>\n",
       "      <td>0.009962</td>\n",
       "      <td>0.201681</td>\n",
       "      <td>98.35</td>\n",
       "      <td>24.19</td>\n",
       "      <td>14.42</td>\n",
       "      <td>18.07</td>\n",
       "    </tr>\n",
       "    <tr>\n",
       "      <th>1</th>\n",
       "      <td>2</td>\n",
       "      <td>100</td>\n",
       "      <td>5</td>\n",
       "      <td>100</td>\n",
       "      <td>56</td>\n",
       "      <td>15.331</td>\n",
       "      <td>0.001045</td>\n",
       "      <td>0.008562</td>\n",
       "      <td>0.129899</td>\n",
       "      <td>98.42</td>\n",
       "      <td>22.92</td>\n",
       "      <td>10.58</td>\n",
       "      <td>14.47</td>\n",
       "    </tr>\n",
       "    <tr>\n",
       "      <th>2</th>\n",
       "      <td>2</td>\n",
       "      <td>100</td>\n",
       "      <td>5</td>\n",
       "      <td>100</td>\n",
       "      <td>65</td>\n",
       "      <td>17.017</td>\n",
       "      <td>0.002558</td>\n",
       "      <td>0.008825</td>\n",
       "      <td>0.192269</td>\n",
       "      <td>98.34</td>\n",
       "      <td>22.03</td>\n",
       "      <td>12.50</td>\n",
       "      <td>15.95</td>\n",
       "    </tr>\n",
       "    <tr>\n",
       "      <th>3</th>\n",
       "      <td>2</td>\n",
       "      <td>100</td>\n",
       "      <td>5</td>\n",
       "      <td>100</td>\n",
       "      <td>49</td>\n",
       "      <td>14.038</td>\n",
       "      <td>0.003895</td>\n",
       "      <td>0.009541</td>\n",
       "      <td>0.166291</td>\n",
       "      <td>98.41</td>\n",
       "      <td>18.60</td>\n",
       "      <td>7.69</td>\n",
       "      <td>10.88</td>\n",
       "    </tr>\n",
       "    <tr>\n",
       "      <th>4</th>\n",
       "      <td>2</td>\n",
       "      <td>100</td>\n",
       "      <td>5</td>\n",
       "      <td>100</td>\n",
       "      <td>30</td>\n",
       "      <td>10.886</td>\n",
       "      <td>0.003783</td>\n",
       "      <td>0.009917</td>\n",
       "      <td>0.261741</td>\n",
       "      <td>98.44</td>\n",
       "      <td>22.22</td>\n",
       "      <td>9.62</td>\n",
       "      <td>13.42</td>\n",
       "    </tr>\n",
       "    <tr>\n",
       "      <th>5</th>\n",
       "      <td>2</td>\n",
       "      <td>100</td>\n",
       "      <td>5</td>\n",
       "      <td>100</td>\n",
       "      <td>73</td>\n",
       "      <td>18.433</td>\n",
       "      <td>0.005265</td>\n",
       "      <td>0.010384</td>\n",
       "      <td>0.209614</td>\n",
       "      <td>98.44</td>\n",
       "      <td>24.49</td>\n",
       "      <td>11.54</td>\n",
       "      <td>15.69</td>\n",
       "    </tr>\n",
       "    <tr>\n",
       "      <th>6</th>\n",
       "      <td>2</td>\n",
       "      <td>100</td>\n",
       "      <td>5</td>\n",
       "      <td>100</td>\n",
       "      <td>25</td>\n",
       "      <td>9.904</td>\n",
       "      <td>0.007666</td>\n",
       "      <td>0.012829</td>\n",
       "      <td>0.150361</td>\n",
       "      <td>98.33</td>\n",
       "      <td>24.24</td>\n",
       "      <td>15.38</td>\n",
       "      <td>18.82</td>\n",
       "    </tr>\n",
       "    <tr>\n",
       "      <th>7</th>\n",
       "      <td>2</td>\n",
       "      <td>100</td>\n",
       "      <td>5</td>\n",
       "      <td>100</td>\n",
       "      <td>76</td>\n",
       "      <td>18.824</td>\n",
       "      <td>0.002141</td>\n",
       "      <td>0.014313</td>\n",
       "      <td>0.118615</td>\n",
       "      <td>98.41</td>\n",
       "      <td>27.87</td>\n",
       "      <td>16.35</td>\n",
       "      <td>20.61</td>\n",
       "    </tr>\n",
       "    <tr>\n",
       "      <th>8</th>\n",
       "      <td>2</td>\n",
       "      <td>100</td>\n",
       "      <td>5</td>\n",
       "      <td>100</td>\n",
       "      <td>128</td>\n",
       "      <td>28.390</td>\n",
       "      <td>0.003432</td>\n",
       "      <td>0.006688</td>\n",
       "      <td>0.176178</td>\n",
       "      <td>98.46</td>\n",
       "      <td>24.44</td>\n",
       "      <td>10.58</td>\n",
       "      <td>14.77</td>\n",
       "    </tr>\n",
       "    <tr>\n",
       "      <th>9</th>\n",
       "      <td>2</td>\n",
       "      <td>100</td>\n",
       "      <td>5</td>\n",
       "      <td>100</td>\n",
       "      <td>56</td>\n",
       "      <td>15.480</td>\n",
       "      <td>0.001606</td>\n",
       "      <td>0.010678</td>\n",
       "      <td>0.108127</td>\n",
       "      <td>98.27</td>\n",
       "      <td>20.00</td>\n",
       "      <td>12.50</td>\n",
       "      <td>15.38</td>\n",
       "    </tr>\n",
       "  </tbody>\n",
       "</table>\n",
       "</div>\n",
       "      <button class=\"colab-df-convert\" onclick=\"convertToInteractive('df-7fb60462-e63e-4063-b7cf-8301a8458d99')\"\n",
       "              title=\"Convert this dataframe to an interactive table.\"\n",
       "              style=\"display:none;\">\n",
       "        \n",
       "  <svg xmlns=\"http://www.w3.org/2000/svg\" height=\"24px\"viewBox=\"0 0 24 24\"\n",
       "       width=\"24px\">\n",
       "    <path d=\"M0 0h24v24H0V0z\" fill=\"none\"/>\n",
       "    <path d=\"M18.56 5.44l.94 2.06.94-2.06 2.06-.94-2.06-.94-.94-2.06-.94 2.06-2.06.94zm-11 1L8.5 8.5l.94-2.06 2.06-.94-2.06-.94L8.5 2.5l-.94 2.06-2.06.94zm10 10l.94 2.06.94-2.06 2.06-.94-2.06-.94-.94-2.06-.94 2.06-2.06.94z\"/><path d=\"M17.41 7.96l-1.37-1.37c-.4-.4-.92-.59-1.43-.59-.52 0-1.04.2-1.43.59L10.3 9.45l-7.72 7.72c-.78.78-.78 2.05 0 2.83L4 21.41c.39.39.9.59 1.41.59.51 0 1.02-.2 1.41-.59l7.78-7.78 2.81-2.81c.8-.78.8-2.07 0-2.86zM5.41 20L4 18.59l7.72-7.72 1.47 1.35L5.41 20z\"/>\n",
       "  </svg>\n",
       "      </button>\n",
       "      \n",
       "  <style>\n",
       "    .colab-df-container {\n",
       "      display:flex;\n",
       "      flex-wrap:wrap;\n",
       "      gap: 12px;\n",
       "    }\n",
       "\n",
       "    .colab-df-convert {\n",
       "      background-color: #E8F0FE;\n",
       "      border: none;\n",
       "      border-radius: 50%;\n",
       "      cursor: pointer;\n",
       "      display: none;\n",
       "      fill: #1967D2;\n",
       "      height: 32px;\n",
       "      padding: 0 0 0 0;\n",
       "      width: 32px;\n",
       "    }\n",
       "\n",
       "    .colab-df-convert:hover {\n",
       "      background-color: #E2EBFA;\n",
       "      box-shadow: 0px 1px 2px rgba(60, 64, 67, 0.3), 0px 1px 3px 1px rgba(60, 64, 67, 0.15);\n",
       "      fill: #174EA6;\n",
       "    }\n",
       "\n",
       "    [theme=dark] .colab-df-convert {\n",
       "      background-color: #3B4455;\n",
       "      fill: #D2E3FC;\n",
       "    }\n",
       "\n",
       "    [theme=dark] .colab-df-convert:hover {\n",
       "      background-color: #434B5C;\n",
       "      box-shadow: 0px 1px 3px 1px rgba(0, 0, 0, 0.15);\n",
       "      filter: drop-shadow(0px 1px 2px rgba(0, 0, 0, 0.3));\n",
       "      fill: #FFFFFF;\n",
       "    }\n",
       "  </style>\n",
       "\n",
       "      <script>\n",
       "        const buttonEl =\n",
       "          document.querySelector('#df-7fb60462-e63e-4063-b7cf-8301a8458d99 button.colab-df-convert');\n",
       "        buttonEl.style.display =\n",
       "          google.colab.kernel.accessAllowed ? 'block' : 'none';\n",
       "\n",
       "        async function convertToInteractive(key) {\n",
       "          const element = document.querySelector('#df-7fb60462-e63e-4063-b7cf-8301a8458d99');\n",
       "          const dataTable =\n",
       "            await google.colab.kernel.invokeFunction('convertToInteractive',\n",
       "                                                     [key], {});\n",
       "          if (!dataTable) return;\n",
       "\n",
       "          const docLinkHtml = 'Like what you see? Visit the ' +\n",
       "            '<a target=\"_blank\" href=https://colab.research.google.com/notebooks/data_table.ipynb>data table notebook</a>'\n",
       "            + ' to learn more about interactive tables.';\n",
       "          element.innerHTML = '';\n",
       "          dataTable['output_type'] = 'display_data';\n",
       "          await google.colab.output.renderOutput(dataTable, element);\n",
       "          const docLink = document.createElement('div');\n",
       "          docLink.innerHTML = docLinkHtml;\n",
       "          element.appendChild(docLink);\n",
       "        }\n",
       "      </script>\n",
       "    </div>\n",
       "  </div>\n",
       "  "
      ],
      "text/plain": [
       "   rnn_layers  rnn_neurons  dnn_layers  dnn_neurons  epoch    time      loss  \\\n",
       "0           2          100           5          100     74  18.674  0.003092   \n",
       "1           2          100           5          100     56  15.331  0.001045   \n",
       "2           2          100           5          100     65  17.017  0.002558   \n",
       "3           2          100           5          100     49  14.038  0.003895   \n",
       "4           2          100           5          100     30  10.886  0.003783   \n",
       "5           2          100           5          100     73  18.433  0.005265   \n",
       "6           2          100           5          100     25   9.904  0.007666   \n",
       "7           2          100           5          100     76  18.824  0.002141   \n",
       "8           2          100           5          100    128  28.390  0.003432   \n",
       "9           2          100           5          100     56  15.480  0.001606   \n",
       "\n",
       "   val_loss  test_loss  accuracy  precision  recall     f1  \n",
       "0  0.009962   0.201681     98.35      24.19   14.42  18.07  \n",
       "1  0.008562   0.129899     98.42      22.92   10.58  14.47  \n",
       "2  0.008825   0.192269     98.34      22.03   12.50  15.95  \n",
       "3  0.009541   0.166291     98.41      18.60    7.69  10.88  \n",
       "4  0.009917   0.261741     98.44      22.22    9.62  13.42  \n",
       "5  0.010384   0.209614     98.44      24.49   11.54  15.69  \n",
       "6  0.012829   0.150361     98.33      24.24   15.38  18.82  \n",
       "7  0.014313   0.118615     98.41      27.87   16.35  20.61  \n",
       "8  0.006688   0.176178     98.46      24.44   10.58  14.77  \n",
       "9  0.010678   0.108127     98.27      20.00   12.50  15.38  "
      ]
     },
     "metadata": {},
     "output_type": "display_data"
    }
   ],
   "source": [
    "# select n_layers and n_neurons as the best values of HPO\n",
    "rnn_layers = 2\n",
    "rnn_neurons = 100\n",
    "dnn_layers = 5\n",
    "dnn_neurons = 100\n",
    "cv_path = f'./result/cv_result_{model_name}_{rnn_layers}_{rnn_neurons}_{dnn_layers}_{dnn_neurons}_{n_cv}.csv'\n",
    "\n",
    "cv_result = pd.DataFrame([], columns=metrics)\n",
    "if not exists(cv_path) or update:\n",
    "    for i in range(n_cv):\n",
    "        print(f\"\\n{i+1}th iteration\")\n",
    "        random.seed(i+1)\n",
    "        train_x, train_y, test_x, test_y, _, _ = stratified_split(rnn_input, rnn_output, \n",
    "                                                              test_size=test_size, random_state=i+1, \n",
    "                                                              scale_x=x_cts, scale_y=[])\n",
    "        train_x, train_y = up_sampling(train_x, train_y)\n",
    "\n",
    "        history_size = train_x.shape[1]\n",
    "        x_dim = train_x.shape[2]\n",
    "        y_dim = train_y.shape[1]\n",
    "        save_path  = f'./h5/{model_name}_{rnn_layers}_{rnn_neurons}_{dnn_layers}_{dnn_neurons}_cv_{i+1}of{n_cv}.h5'\n",
    "\n",
    "        model = RNN(history_size, x_dim, y_dim)\n",
    "        model.build(rnn_layers, rnn_neurons, dnn_layers, dnn_neurons)\n",
    "        if not exists(save_path) or update:\n",
    "            model.train(train_x, train_y, valid_size, save_path=save_path)\n",
    "        else:\n",
    "            model.load_model(save_path)\n",
    "\n",
    "        epoch = model.epoch\n",
    "        time = model.time\n",
    "        loss = model.loss\n",
    "        val_loss = model.val_loss\n",
    "        test_loss, accuracy, precision, recall, f1 = model.evaluate(test_x, test_y)\n",
    "        cv = pd.DataFrame([[rnn_layers, rnn_neurons, dnn_layers, dnn_neurons, epoch, time, loss, val_loss, test_loss, accuracy, \n",
    "                             precision[1], recall[1], f1[1]]], columns=metrics)\n",
    "        cv_result = pd.concat([cv_result, cv], axis=0)\n",
    "    cv_result = cv_result.reset_index(drop=True)\n",
    "    cv_result.to_csv(cv_path, index=False)    \n",
    "    \n",
    "else:\n",
    "    cv_result = pd.read_csv(cv_path)\n",
    "\n",
    "display(cv_result)"
   ]
  },
  {
   "cell_type": "code",
   "execution_count": null,
   "id": "83ec170e",
   "metadata": {
    "ExecuteTime": {
     "start_time": "2023-01-27T04:47:38.309Z"
    },
    "colab": {
     "base_uri": "https://localhost:8080/",
     "height": 1000
    },
    "executionInfo": {
     "elapsed": 45038,
     "status": "ok",
     "timestamp": 1674833857116,
     "user": {
      "displayName": "SEOKYOUNG HONG",
      "userId": "15432326928825214179"
     },
     "user_tz": 300
    },
    "id": "83ec170e",
    "outputId": "442efab6-d13d-4bec-8bf0-c5824466093a",
    "scrolled": false
   },
   "outputs": [
    {
     "name": "stdout",
     "output_type": "stream",
     "text": [
      "\n",
      "1th iteration\n",
      "train/test dataset: <class 'numpy.ndarray'>\n",
      "\n",
      "train: (33011, 21, 34) (33011, 1)\n",
      "check scale: 0.0 1.0\n",
      "\n",
      "test: (8253, 21, 34) (8253, 1)\n",
      "check scale: 0.0 1.0\n",
      "up-sampled train dataset: (65188, 21, 34) (65188, 1)\n",
      "MLP model has been restored from ./h5/rnn_basic_2_100_5_100_cv_1of10.h5\n"
     ]
    },
    {
     "data": {
      "image/png": "[encoded data removed]",
      "text/plain": [
       "<Figure size 345.6x288 with 2 Axes>"
      ]
     },
     "metadata": {
      "needs_background": "light"
     },
     "output_type": "display_data"
    },
    {
     "name": "stdout",
     "output_type": "stream",
     "text": [
      "accuracy  : 98.35000000000001\n",
      "precision : [98.91 24.19]\n",
      "recall    : [99.42 14.42]\n",
      "f1_score  : [99.17 18.07]\n",
      "\n",
      "2th iteration\n",
      "train/test dataset: <class 'numpy.ndarray'>\n",
      "\n",
      "train: (33011, 21, 34) (33011, 1)\n",
      "check scale: 0.0 1.0\n",
      "\n",
      "test: (8253, 21, 34) (8253, 1)\n",
      "check scale: 0.0 1.0\n",
      "up-sampled train dataset: (65188, 21, 34) (65188, 1)\n",
      "MLP model has been restored from ./h5/rnn_basic_2_100_5_100_cv_2of10.h5\n"
     ]
    },
    {
     "data": {
      "image/png": "[encoded data removed]",
      "text/plain": [
       "<Figure size 345.6x288 with 2 Axes>"
      ]
     },
     "metadata": {
      "needs_background": "light"
     },
     "output_type": "display_data"
    },
    {
     "name": "stdout",
     "output_type": "stream",
     "text": [
      "accuracy  : 98.42\n",
      "precision : [98.87 22.92]\n",
      "recall    : [99.55 10.58]\n",
      "f1_score  : [99.21 14.47]\n",
      "\n",
      "3th iteration\n",
      "train/test dataset: <class 'numpy.ndarray'>\n",
      "\n",
      "train: (33011, 21, 34) (33011, 1)\n",
      "check scale: 0.0 1.0\n",
      "\n",
      "test: (8253, 21, 34) (8253, 1)\n",
      "check scale: 0.0 1.0263605442176873\n",
      "up-sampled train dataset: (65188, 21, 34) (65188, 1)\n",
      "MLP model has been restored from ./h5/rnn_basic_2_100_5_100_cv_3of10.h5\n"
     ]
    },
    {
     "data": {
      "image/png": "[encoded data removed]",
      "text/plain": [
       "<Figure size 345.6x288 with 2 Axes>"
      ]
     },
     "metadata": {
      "needs_background": "light"
     },
     "output_type": "display_data"
    },
    {
     "name": "stdout",
     "output_type": "stream",
     "text": [
      "accuracy  : 98.34\n",
      "precision : [98.89 22.03]\n",
      "recall    : [99.44 12.5 ]\n",
      "f1_score  : [99.16 15.95]\n",
      "\n",
      "4th iteration\n",
      "train/test dataset: <class 'numpy.ndarray'>\n",
      "\n",
      "train: (33011, 21, 34) (33011, 1)\n",
      "check scale: 0.0 1.0\n",
      "\n",
      "test: (8253, 21, 34) (8253, 1)\n",
      "check scale: 0.0 1.0\n",
      "up-sampled train dataset: (65188, 21, 34) (65188, 1)\n",
      "MLP model has been restored from ./h5/rnn_basic_2_100_5_100_cv_4of10.h5\n"
     ]
    },
    {
     "data": {
      "image/png": "[encoded data removed]",
      "text/plain": [
       "<Figure size 345.6x288 with 2 Axes>"
      ]
     },
     "metadata": {
      "needs_background": "light"
     },
     "output_type": "display_data"
    },
    {
     "name": "stdout",
     "output_type": "stream",
     "text": [
      "accuracy  : 98.41\n",
      "precision : [98.83 18.6 ]\n",
      "recall    : [99.57  7.69]\n",
      "f1_score  : [99.2  10.88]\n",
      "\n",
      "5th iteration\n",
      "train/test dataset: <class 'numpy.ndarray'>\n",
      "\n",
      "train: (33011, 21, 34) (33011, 1)\n",
      "check scale: 0.0 1.0\n",
      "\n",
      "test: (8253, 21, 34) (8253, 1)\n",
      "check scale: 0.0 1.0090634441087611\n",
      "up-sampled train dataset: (65188, 21, 34) (65188, 1)\n",
      "MLP model has been restored from ./h5/rnn_basic_2_100_5_100_cv_5of10.h5\n"
     ]
    },
    {
     "data": {
      "image/png": "[encoded data removed]",
      "text/plain": [
       "<Figure size 345.6x288 with 2 Axes>"
      ]
     },
     "metadata": {
      "needs_background": "light"
     },
     "output_type": "display_data"
    },
    {
     "name": "stdout",
     "output_type": "stream",
     "text": [
      "accuracy  : 98.44000000000001\n",
      "precision : [98.85 22.22]\n",
      "recall    : [99.57  9.62]\n",
      "f1_score  : [99.21 13.42]\n",
      "\n",
      "6th iteration\n",
      "train/test dataset: <class 'numpy.ndarray'>\n",
      "\n",
      "train: (33011, 21, 34) (33011, 1)\n",
      "check scale: 0.0 1.0\n",
      "\n",
      "test: (8253, 21, 34) (8253, 1)\n",
      "check scale: 0.0 1.0\n",
      "up-sampled train dataset: (65188, 21, 34) (65188, 1)\n",
      "MLP model has been restored from ./h5/rnn_basic_2_100_5_100_cv_6of10.h5\n"
     ]
    },
    {
     "data": {
      "image/png": "[encoded data removed]",
      "text/plain": [
       "<Figure size 345.6x288 with 2 Axes>"
      ]
     },
     "metadata": {
      "needs_background": "light"
     },
     "output_type": "display_data"
    },
    {
     "name": "stdout",
     "output_type": "stream",
     "text": [
      "accuracy  : 98.44000000000001\n",
      "precision : [98.88 24.49]\n",
      "recall    : [99.55 11.54]\n",
      "f1_score  : [99.21 15.69]\n",
      "\n",
      "7th iteration\n",
      "train/test dataset: <class 'numpy.ndarray'>\n",
      "\n",
      "train: (33011, 21, 34) (33011, 1)\n",
      "check scale: 0.0 1.0\n",
      "\n",
      "test: (8253, 21, 34) (8253, 1)\n",
      "check scale: 0.0 1.0263605442176873\n",
      "up-sampled train dataset: (65188, 21, 34) (65188, 1)\n",
      "MLP model has been restored from ./h5/rnn_basic_2_100_5_100_cv_7of10.h5\n"
     ]
    },
    {
     "data": {
      "image/png": "[encoded data removed]",
      "text/plain": [
       "<Figure size 345.6x288 with 2 Axes>"
      ]
     },
     "metadata": {
      "needs_background": "light"
     },
     "output_type": "display_data"
    },
    {
     "name": "stdout",
     "output_type": "stream",
     "text": [
      "accuracy  : 98.33\n",
      "precision : [98.93 24.24]\n",
      "recall    : [99.39 15.38]\n",
      "f1_score  : [99.16 18.82]\n",
      "\n",
      "8th iteration\n",
      "train/test dataset: <class 'numpy.ndarray'>\n",
      "\n",
      "train: (33011, 21, 34) (33011, 1)\n",
      "check scale: 0.0 1.0\n",
      "\n",
      "test: (8253, 21, 34) (8253, 1)\n",
      "check scale: 0.0 1.0\n",
      "up-sampled train dataset: (65188, 21, 34) (65188, 1)\n",
      "MLP model has been restored from ./h5/rnn_basic_2_100_5_100_cv_8of10.h5\n"
     ]
    },
    {
     "data": {
      "image/png": "[encoded data removed]",
      "text/plain": [
       "<Figure size 345.6x288 with 2 Axes>"
      ]
     },
     "metadata": {
      "needs_background": "light"
     },
     "output_type": "display_data"
    },
    {
     "name": "stdout",
     "output_type": "stream",
     "text": [
      "accuracy  : 98.41\n",
      "precision : [98.94 27.87]\n",
      "recall    : [99.46 16.35]\n",
      "f1_score  : [99.2  20.61]\n",
      "\n",
      "9th iteration\n",
      "train/test dataset: <class 'numpy.ndarray'>\n",
      "\n",
      "train: (33011, 21, 34) (33011, 1)\n",
      "check scale: 0.0 1.0\n",
      "\n",
      "test: (8253, 21, 34) (8253, 1)\n",
      "check scale: 0.0 1.0090634441087611\n",
      "up-sampled train dataset: (65188, 21, 34) (65188, 1)\n",
      "MLP model has been restored from ./h5/rnn_basic_2_100_5_100_cv_9of10.h5\n"
     ]
    },
    {
     "data": {
      "image/png": "[encoded data removed]",
      "text/plain": [
       "<Figure size 345.6x288 with 2 Axes>"
      ]
     },
     "metadata": {
      "needs_background": "light"
     },
     "output_type": "display_data"
    },
    {
     "name": "stdout",
     "output_type": "stream",
     "text": [
      "accuracy  : 98.46000000000001\n",
      "precision : [98.87 24.44]\n",
      "recall    : [99.58 10.58]\n",
      "f1_score  : [99.22 14.77]\n",
      "\n",
      "10th iteration\n",
      "train/test dataset: <class 'numpy.ndarray'>\n",
      "\n",
      "train: (33011, 21, 34) (33011, 1)\n",
      "check scale: 0.0 1.0\n",
      "\n",
      "test: (8253, 21, 34) (8253, 1)\n",
      "check scale: 0.0 1.001001001001001\n",
      "up-sampled train dataset: (65188, 21, 34) (65188, 1)\n",
      "MLP model has been restored from ./h5/rnn_basic_2_100_5_100_cv_10of10.h5\n"
     ]
    },
    {
     "data": {
      "image/png": "[encoded data removed]",
      "text/plain": [
       "<Figure size 345.6x288 with 2 Axes>"
      ]
     },
     "metadata": {
      "needs_background": "light"
     },
     "output_type": "display_data"
    },
    {
     "name": "stdout",
     "output_type": "stream",
     "text": [
      "accuracy  : 98.27\n",
      "precision : [98.89 20.  ]\n",
      "recall    : [99.36 12.5 ]\n",
      "f1_score  : [99.12 15.38]\n"
     ]
    }
   ],
   "source": [
    "from src.graph_plot import *\n",
    "\n",
    "for i in range(n_cv):\n",
    "    print(f\"\\n{i+1}th iteration\")\n",
    "    random.seed(i+1)\n",
    "    train_x, train_y, test_x, test_y, _, _ = stratified_split(rnn_input, rnn_output, \n",
    "                                                          test_size=test_size, random_state=i+1, \n",
    "                                                          scale_x=x_cts, scale_y=[])\n",
    "    train_x, train_y = up_sampling(train_x, train_y)\n",
    "\n",
    "    history_size = train_x.shape[1]\n",
    "    x_dim = train_x.shape[2]\n",
    "    y_dim = train_y.shape[1]\n",
    "    save_path  = f'./h5/{model_name}_{rnn_layers}_{rnn_neurons}_{dnn_layers}_{dnn_neurons}_cv_{i+1}of{n_cv}.h5'\n",
    "\n",
    "    model = RNN(history_size, x_dim, y_dim)\n",
    "    model.build(rnn_layers, rnn_neurons, dnn_layers, dnn_neurons)\n",
    "    model.load_model(save_path)\n",
    "    \n",
    "    prediction = model.model.predict(test_x, verbose=0)\n",
    "    y_pred = prediction.round(0).astype(int)\n",
    "    y_real = test_y\n",
    "    \n",
    "    plot_confusion(y_real, y_pred, title=model_name+f\"_{i+1}\", label=[\"Positive\",\"Negative\"])"
   ]
  },
  {
   "cell_type": "code",
   "execution_count": null,
   "id": "9a39c00f",
   "metadata": {
    "id": "9a39c00f"
   },
   "outputs": [],
   "source": []
  }
 ],
 "metadata": {
  "accelerator": "GPU",
  "colab": {
   "provenance": [],
   "toc_visible": true
  },
  "gpuClass": "standard",
  "kernelspec": {
   "display_name": "Python 3 (ipykernel)",
   "language": "python",
   "name": "python3"
  },
  "language_info": {
   "codemirror_mode": {
    "name": "ipython",
    "version": 3
   },
   "file_extension": ".py",
   "mimetype": "text/x-python",
   "name": "python",
   "nbconvert_exporter": "python",
   "pygments_lexer": "ipython3",
   "version": "3.9.12"
  },
  "toc": {
   "base_numbering": 1,
   "nav_menu": {},
   "number_sections": true,
   "sideBar": true,
   "skip_h1_title": false,
   "title_cell": "Table of Contents",
   "title_sidebar": "Contents",
   "toc_cell": false,
   "toc_position": {},
   "toc_section_display": true,
   "toc_window_display": false
  }
 },
 "nbformat": 4,
 "nbformat_minor": 5
}
