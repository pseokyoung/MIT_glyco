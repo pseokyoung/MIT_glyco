{
 "cells": [
  {
   "cell_type": "code",
   "execution_count": 1,
   "id": "ea0c5c47-0e14-4d3d-9c46-97bae7d9e386",
   "metadata": {
    "ExecuteTime": {
     "end_time": "2022-11-17T05:36:47.700575Z",
     "start_time": "2022-11-17T05:36:41.300635Z"
    }
   },
   "outputs": [
    {
     "data": {
      "text/plain": [
       "'D:\\\\Project\\\\MIT_glyco'"
      ]
     },
     "execution_count": 1,
     "metadata": {},
     "output_type": "execute_result"
    }
   ],
   "source": [
    "import pandas as pd\n",
    "import numpy as np\n",
    "\n",
    "import time\n",
    "from os import getcwd \n",
    "from os.path import exists\n",
    "\n",
    "getcwd() # current working directory"
   ]
  },
  {
   "cell_type": "code",
   "execution_count": 2,
   "id": "a34bbb10",
   "metadata": {
    "ExecuteTime": {
     "end_time": "2022-11-17T05:36:47.716532Z",
     "start_time": "2022-11-17T05:36:47.703567Z"
    }
   },
   "outputs": [],
   "source": [
    "version = 'v0'\n",
    "update = False"
   ]
  },
  {
   "cell_type": "markdown",
   "id": "1866211f-e491-453f-9aad-235a158ea76e",
   "metadata": {},
   "source": [
    "# dataset for machine learning"
   ]
  },
  {
   "cell_type": "code",
   "execution_count": 3,
   "id": "035f69eb-e86b-4546-b69e-407884cebc50",
   "metadata": {
    "ExecuteTime": {
     "end_time": "2022-11-17T05:36:48.050639Z",
     "start_time": "2022-11-17T05:36:47.718528Z"
    }
   },
   "outputs": [],
   "source": [
    "### This part is grouping the positive sites of protein with same name ###\n",
    "time_start = time.time()\n",
    "\n",
    "# load O-GlcNAcylated site data\n",
    "load_name = f'data_for_ml_v2.csv'\n",
    "ml_data = pd.read_csv(load_name, header=0, index_col=0) "
   ]
  },
  {
   "cell_type": "code",
   "execution_count": 4,
   "id": "b91adb03-a33d-4d37-9089-55fd523466c7",
   "metadata": {
    "ExecuteTime": {
     "end_time": "2022-11-17T05:36:48.082554Z",
     "start_time": "2022-11-17T05:36:48.053631Z"
    }
   },
   "outputs": [],
   "source": [
    "ml_data_positive = ml_data[ml_data[\"positive\"]==1]\n",
    "ml_data_negative = ml_data[ml_data[\"positive\"]==0]"
   ]
  },
  {
   "cell_type": "code",
   "execution_count": 5,
   "id": "fdfc3ef5-fb1f-47eb-afbb-a72a2d40d1ba",
   "metadata": {
    "ExecuteTime": {
     "end_time": "2022-11-17T05:36:48.146386Z",
     "start_time": "2022-11-17T05:36:48.084549Z"
    },
    "deletable": false,
    "editable": false,
    "run_control": {
     "frozen": true
    }
   },
   "outputs": [
    {
     "data": {
      "text/html": [
       "<div>\n",
       "<style scoped>\n",
       "    .dataframe tbody tr th:only-of-type {\n",
       "        vertical-align: middle;\n",
       "    }\n",
       "\n",
       "    .dataframe tbody tr th {\n",
       "        vertical-align: top;\n",
       "    }\n",
       "\n",
       "    .dataframe thead th {\n",
       "        text-align: right;\n",
       "    }\n",
       "</style>\n",
       "<table border=\"1\" class=\"dataframe\">\n",
       "  <thead>\n",
       "    <tr style=\"text-align: right;\">\n",
       "      <th></th>\n",
       "      <th>name</th>\n",
       "      <th>index</th>\n",
       "      <th>SEQ</th>\n",
       "      <th>positive</th>\n",
       "      <th>window</th>\n",
       "      <th>nSer</th>\n",
       "      <th>nThr</th>\n",
       "      <th>nAli</th>\n",
       "      <th>nPos</th>\n",
       "      <th>P_after</th>\n",
       "      <th>...</th>\n",
       "      <th>ASA</th>\n",
       "      <th>Phi</th>\n",
       "      <th>Psi</th>\n",
       "      <th>Theta(i-1=&gt;i+1)</th>\n",
       "      <th>Tau(i-2=&gt;i+2)</th>\n",
       "      <th>HSE_alpha_up</th>\n",
       "      <th>HSE_alpha_down</th>\n",
       "      <th>P(C)</th>\n",
       "      <th>P(H)</th>\n",
       "      <th>P(E)</th>\n",
       "    </tr>\n",
       "  </thead>\n",
       "  <tbody>\n",
       "    <tr>\n",
       "      <th>65</th>\n",
       "      <td>A2ABU4</td>\n",
       "      <td>429</td>\n",
       "      <td>T</td>\n",
       "      <td>1</td>\n",
       "      <td>WMPCLKAPGG\"T\"CRCPIQGLVE</td>\n",
       "      <td>0</td>\n",
       "      <td>0</td>\n",
       "      <td>1</td>\n",
       "      <td>1</td>\n",
       "      <td>False</td>\n",
       "      <td>...</td>\n",
       "      <td>63.4</td>\n",
       "      <td>-107.9</td>\n",
       "      <td>135.3</td>\n",
       "      <td>120.2</td>\n",
       "      <td>-35.5</td>\n",
       "      <td>10.1</td>\n",
       "      <td>22.2</td>\n",
       "      <td>0.707</td>\n",
       "      <td>0.013</td>\n",
       "      <td>0.280</td>\n",
       "    </tr>\n",
       "    <tr>\n",
       "      <th>254</th>\n",
       "      <td>A2AGT5</td>\n",
       "      <td>567</td>\n",
       "      <td>S</td>\n",
       "      <td>1</td>\n",
       "      <td>GKTTAPGGSA\"S\"AGTKNKKGLE</td>\n",
       "      <td>1</td>\n",
       "      <td>3</td>\n",
       "      <td>1</td>\n",
       "      <td>0</td>\n",
       "      <td>False</td>\n",
       "      <td>...</td>\n",
       "      <td>72.1</td>\n",
       "      <td>-85.8</td>\n",
       "      <td>117.2</td>\n",
       "      <td>109.6</td>\n",
       "      <td>-131.2</td>\n",
       "      <td>6.4</td>\n",
       "      <td>12.0</td>\n",
       "      <td>0.795</td>\n",
       "      <td>0.173</td>\n",
       "      <td>0.032</td>\n",
       "    </tr>\n",
       "    <tr>\n",
       "      <th>474</th>\n",
       "      <td>A2AHJ4</td>\n",
       "      <td>263</td>\n",
       "      <td>S</td>\n",
       "      <td>1</td>\n",
       "      <td>CAPVAVLQGH\"S\"ASITSIQFCP</td>\n",
       "      <td>2</td>\n",
       "      <td>1</td>\n",
       "      <td>0</td>\n",
       "      <td>0</td>\n",
       "      <td>False</td>\n",
       "      <td>...</td>\n",
       "      <td>61.4</td>\n",
       "      <td>-88.6</td>\n",
       "      <td>-3.1</td>\n",
       "      <td>101.1</td>\n",
       "      <td>-144.8</td>\n",
       "      <td>9.1</td>\n",
       "      <td>24.1</td>\n",
       "      <td>0.972</td>\n",
       "      <td>0.003</td>\n",
       "      <td>0.025</td>\n",
       "    </tr>\n",
       "    <tr>\n",
       "      <th>480</th>\n",
       "      <td>A2AHJ4</td>\n",
       "      <td>278</td>\n",
       "      <td>T</td>\n",
       "      <td>1</td>\n",
       "      <td>SIQFCPSTKG\"T\"TRYLTSTGAD</td>\n",
       "      <td>3</td>\n",
       "      <td>4</td>\n",
       "      <td>0</td>\n",
       "      <td>0</td>\n",
       "      <td>False</td>\n",
       "      <td>...</td>\n",
       "      <td>62.1</td>\n",
       "      <td>-100.6</td>\n",
       "      <td>124.5</td>\n",
       "      <td>115.3</td>\n",
       "      <td>88.0</td>\n",
       "      <td>10.7</td>\n",
       "      <td>17.6</td>\n",
       "      <td>0.895</td>\n",
       "      <td>0.020</td>\n",
       "      <td>0.086</td>\n",
       "    </tr>\n",
       "    <tr>\n",
       "      <th>728</th>\n",
       "      <td>A2AKB9</td>\n",
       "      <td>86</td>\n",
       "      <td>T</td>\n",
       "      <td>1</td>\n",
       "      <td>APGALELSAA\"T\"ASASQAKLSP</td>\n",
       "      <td>4</td>\n",
       "      <td>0</td>\n",
       "      <td>2</td>\n",
       "      <td>0</td>\n",
       "      <td>False</td>\n",
       "      <td>...</td>\n",
       "      <td>27.0</td>\n",
       "      <td>-69.8</td>\n",
       "      <td>-35.4</td>\n",
       "      <td>94.6</td>\n",
       "      <td>51.5</td>\n",
       "      <td>18.9</td>\n",
       "      <td>22.2</td>\n",
       "      <td>0.208</td>\n",
       "      <td>0.428</td>\n",
       "      <td>0.364</td>\n",
       "    </tr>\n",
       "    <tr>\n",
       "      <th>...</th>\n",
       "      <td>...</td>\n",
       "      <td>...</td>\n",
       "      <td>...</td>\n",
       "      <td>...</td>\n",
       "      <td>...</td>\n",
       "      <td>...</td>\n",
       "      <td>...</td>\n",
       "      <td>...</td>\n",
       "      <td>...</td>\n",
       "      <td>...</td>\n",
       "      <td>...</td>\n",
       "      <td>...</td>\n",
       "      <td>...</td>\n",
       "      <td>...</td>\n",
       "      <td>...</td>\n",
       "      <td>...</td>\n",
       "      <td>...</td>\n",
       "      <td>...</td>\n",
       "      <td>...</td>\n",
       "      <td>...</td>\n",
       "      <td>...</td>\n",
       "    </tr>\n",
       "    <tr>\n",
       "      <th>41269</th>\n",
       "      <td>Q9UPN6</td>\n",
       "      <td>614</td>\n",
       "      <td>T</td>\n",
       "      <td>1</td>\n",
       "      <td>SEPVKETVQT\"T\"QSPTPVEKET</td>\n",
       "      <td>2</td>\n",
       "      <td>4</td>\n",
       "      <td>1</td>\n",
       "      <td>1</td>\n",
       "      <td>False</td>\n",
       "      <td>...</td>\n",
       "      <td>105.5</td>\n",
       "      <td>-84.3</td>\n",
       "      <td>2.7</td>\n",
       "      <td>102.9</td>\n",
       "      <td>82.0</td>\n",
       "      <td>2.6</td>\n",
       "      <td>9.9</td>\n",
       "      <td>0.941</td>\n",
       "      <td>0.037</td>\n",
       "      <td>0.022</td>\n",
       "    </tr>\n",
       "    <tr>\n",
       "      <th>41990</th>\n",
       "      <td>Q9UQ35</td>\n",
       "      <td>2235</td>\n",
       "      <td>S</td>\n",
       "      <td>1</td>\n",
       "      <td>ANLASRIPAA\"S\"AAAMNLASAR</td>\n",
       "      <td>2</td>\n",
       "      <td>0</td>\n",
       "      <td>3</td>\n",
       "      <td>1</td>\n",
       "      <td>False</td>\n",
       "      <td>...</td>\n",
       "      <td>65.6</td>\n",
       "      <td>-68.0</td>\n",
       "      <td>-35.7</td>\n",
       "      <td>95.7</td>\n",
       "      <td>56.7</td>\n",
       "      <td>4.9</td>\n",
       "      <td>14.7</td>\n",
       "      <td>0.526</td>\n",
       "      <td>0.470</td>\n",
       "      <td>0.004</td>\n",
       "    </tr>\n",
       "    <tr>\n",
       "      <th>42339</th>\n",
       "      <td>Q9Y2X9</td>\n",
       "      <td>890</td>\n",
       "      <td>S</td>\n",
       "      <td>1</td>\n",
       "      <td>PCSTRVKTPT\"S\"QSYR</td>\n",
       "      <td>2</td>\n",
       "      <td>3</td>\n",
       "      <td>1</td>\n",
       "      <td>1</td>\n",
       "      <td>False</td>\n",
       "      <td>...</td>\n",
       "      <td>62.7</td>\n",
       "      <td>-83.8</td>\n",
       "      <td>-1.6</td>\n",
       "      <td>103.3</td>\n",
       "      <td>140.9</td>\n",
       "      <td>9.9</td>\n",
       "      <td>14.2</td>\n",
       "      <td>0.628</td>\n",
       "      <td>0.114</td>\n",
       "      <td>0.258</td>\n",
       "    </tr>\n",
       "    <tr>\n",
       "      <th>42679</th>\n",
       "      <td>Q9Y520</td>\n",
       "      <td>2242</td>\n",
       "      <td>T</td>\n",
       "      <td>1</td>\n",
       "      <td>SSSLTSVPPT\"T\"FSLTFKMESA</td>\n",
       "      <td>6</td>\n",
       "      <td>3</td>\n",
       "      <td>2</td>\n",
       "      <td>0</td>\n",
       "      <td>False</td>\n",
       "      <td>...</td>\n",
       "      <td>60.7</td>\n",
       "      <td>-104.6</td>\n",
       "      <td>131.4</td>\n",
       "      <td>117.4</td>\n",
       "      <td>-146.8</td>\n",
       "      <td>10.7</td>\n",
       "      <td>22.8</td>\n",
       "      <td>0.827</td>\n",
       "      <td>0.127</td>\n",
       "      <td>0.047</td>\n",
       "    </tr>\n",
       "    <tr>\n",
       "      <th>42786</th>\n",
       "      <td>Q9Y520</td>\n",
       "      <td>2692</td>\n",
       "      <td>T</td>\n",
       "      <td>1</td>\n",
       "      <td>PTSSPFRATS\"T\"SPNSQSSKMN</td>\n",
       "      <td>7</td>\n",
       "      <td>2</td>\n",
       "      <td>1</td>\n",
       "      <td>0</td>\n",
       "      <td>False</td>\n",
       "      <td>...</td>\n",
       "      <td>43.3</td>\n",
       "      <td>-101.7</td>\n",
       "      <td>129.8</td>\n",
       "      <td>116.5</td>\n",
       "      <td>-145.9</td>\n",
       "      <td>15.5</td>\n",
       "      <td>21.3</td>\n",
       "      <td>0.896</td>\n",
       "      <td>0.015</td>\n",
       "      <td>0.089</td>\n",
       "    </tr>\n",
       "  </tbody>\n",
       "</table>\n",
       "<p>538 rows × 29 columns</p>\n",
       "</div>"
      ],
      "text/plain": [
       "         name  index SEQ  positive                   window  nSer  nThr  nAli  \\\n",
       "65     A2ABU4    429   T         1  WMPCLKAPGG\"T\"CRCPIQGLVE     0     0     1   \n",
       "254    A2AGT5    567   S         1  GKTTAPGGSA\"S\"AGTKNKKGLE     1     3     1   \n",
       "474    A2AHJ4    263   S         1  CAPVAVLQGH\"S\"ASITSIQFCP     2     1     0   \n",
       "480    A2AHJ4    278   T         1  SIQFCPSTKG\"T\"TRYLTSTGAD     3     4     0   \n",
       "728    A2AKB9     86   T         1  APGALELSAA\"T\"ASASQAKLSP     4     0     2   \n",
       "...       ...    ...  ..       ...                      ...   ...   ...   ...   \n",
       "41269  Q9UPN6    614   T         1  SEPVKETVQT\"T\"QSPTPVEKET     2     4     1   \n",
       "41990  Q9UQ35   2235   S         1  ANLASRIPAA\"S\"AAAMNLASAR     2     0     3   \n",
       "42339  Q9Y2X9    890   S         1        PCSTRVKTPT\"S\"QSYR     2     3     1   \n",
       "42679  Q9Y520   2242   T         1  SSSLTSVPPT\"T\"FSLTFKMESA     6     3     2   \n",
       "42786  Q9Y520   2692   T         1  PTSSPFRATS\"T\"SPNSQSSKMN     7     2     1   \n",
       "\n",
       "       nPos P_after  ...    ASA    Phi    Psi Theta(i-1=>i+1) Tau(i-2=>i+2)  \\\n",
       "65        1   False  ...   63.4 -107.9  135.3           120.2         -35.5   \n",
       "254       0   False  ...   72.1  -85.8  117.2           109.6        -131.2   \n",
       "474       0   False  ...   61.4  -88.6   -3.1           101.1        -144.8   \n",
       "480       0   False  ...   62.1 -100.6  124.5           115.3          88.0   \n",
       "728       0   False  ...   27.0  -69.8  -35.4            94.6          51.5   \n",
       "...     ...     ...  ...    ...    ...    ...             ...           ...   \n",
       "41269     1   False  ...  105.5  -84.3    2.7           102.9          82.0   \n",
       "41990     1   False  ...   65.6  -68.0  -35.7            95.7          56.7   \n",
       "42339     1   False  ...   62.7  -83.8   -1.6           103.3         140.9   \n",
       "42679     0   False  ...   60.7 -104.6  131.4           117.4        -146.8   \n",
       "42786     0   False  ...   43.3 -101.7  129.8           116.5        -145.9   \n",
       "\n",
       "      HSE_alpha_up HSE_alpha_down   P(C)   P(H)   P(E)  \n",
       "65            10.1           22.2  0.707  0.013  0.280  \n",
       "254            6.4           12.0  0.795  0.173  0.032  \n",
       "474            9.1           24.1  0.972  0.003  0.025  \n",
       "480           10.7           17.6  0.895  0.020  0.086  \n",
       "728           18.9           22.2  0.208  0.428  0.364  \n",
       "...            ...            ...    ...    ...    ...  \n",
       "41269          2.6            9.9  0.941  0.037  0.022  \n",
       "41990          4.9           14.7  0.526  0.470  0.004  \n",
       "42339          9.9           14.2  0.628  0.114  0.258  \n",
       "42679         10.7           22.8  0.827  0.127  0.047  \n",
       "42786         15.5           21.3  0.896  0.015  0.089  \n",
       "\n",
       "[538 rows x 29 columns]"
      ]
     },
     "execution_count": 5,
     "metadata": {},
     "output_type": "execute_result"
    }
   ],
   "source": [
    "# the number of positive sites = 538\n",
    "ml_data_positive"
   ]
  },
  {
   "cell_type": "code",
   "execution_count": 6,
   "id": "88dd0f27-cb35-4d79-b64d-70d3bb71ff46",
   "metadata": {
    "ExecuteTime": {
     "end_time": "2022-11-17T05:36:48.239137Z",
     "start_time": "2022-11-17T05:36:48.148379Z"
    },
    "deletable": false,
    "editable": false,
    "run_control": {
     "frozen": true
    }
   },
   "outputs": [
    {
     "name": "stdout",
     "output_type": "stream",
     "text": [
      "positive sites\n"
     ]
    },
    {
     "data": {
      "text/plain": [
       "S\"S\"A    2.602230\n",
       "V\"S\"S    2.416357\n",
       "S\"S\"S    2.044610\n",
       "T\"T\"S    2.044610\n",
       "T\"S\"S    1.858736\n",
       "           ...   \n",
       "H\"S\"T    0.185874\n",
       "S\"T\"E    0.185874\n",
       "L\"T\"V    0.185874\n",
       "Q\"T\"I    0.185874\n",
       "T\"T\"Q    0.185874\n",
       "Name: window, Length: 266, dtype: float64"
      ]
     },
     "metadata": {},
     "output_type": "display_data"
    },
    {
     "name": "stdout",
     "output_type": "stream",
     "text": [
      "\n",
      "negative sites\n"
     ]
    },
    {
     "data": {
      "text/plain": [
       "S\"S\"S    1.757249\n",
       "S\"S\"P    0.827775\n",
       "P\"S\"P    0.721347\n",
       "P\"S\"S    0.709522\n",
       "S\"S\"T    0.690601\n",
       "           ...   \n",
       "M\"S\"W    0.002365\n",
       "Y\"T\"     0.002365\n",
       "E\"S\"     0.002365\n",
       "T\"S\"     0.002365\n",
       "G\"T\"     0.002365\n",
       "Name: window, Length: 821, dtype: float64"
      ]
     },
     "metadata": {},
     "output_type": "display_data"
    }
   ],
   "source": [
    "print(\"positive sites\")\n",
    "display(ml_data_positive[\"window\"].apply(lambda x: x[x.find('\"')-1:x.find('\"')+4]).value_counts()/len(ml_data_positive)*100) # analyze -1/+1 window\n",
    "print()\n",
    "print(\"negative sites\")\n",
    "display(ml_data_negative[\"window\"].apply(lambda x: x[x.find('\"')-1:x.find('\"')+4]).value_counts()/len(ml_data_negative)*100)"
   ]
  },
  {
   "cell_type": "code",
   "execution_count": 7,
   "id": "8ff8268b",
   "metadata": {
    "ExecuteTime": {
     "end_time": "2022-11-17T05:36:48.301968Z",
     "start_time": "2022-11-17T05:36:48.241131Z"
    },
    "deletable": false,
    "editable": false,
    "run_control": {
     "frozen": true
    }
   },
   "outputs": [
    {
     "name": "stdout",
     "output_type": "stream",
     "text": [
      "<class 'pandas.core.frame.DataFrame'>\n",
      "Int64Index: 42820 entries, 0 to 42819\n",
      "Data columns (total 29 columns):\n",
      " #   Column           Non-Null Count  Dtype  \n",
      "---  ------           --------------  -----  \n",
      " 0   name             42820 non-null  object \n",
      " 1   index            42820 non-null  int64  \n",
      " 2   SEQ              42820 non-null  object \n",
      " 3   positive         42820 non-null  int64  \n",
      " 4   window           42820 non-null  object \n",
      " 5   nSer             42820 non-null  int64  \n",
      " 6   nThr             42820 non-null  int64  \n",
      " 7   nAli             42820 non-null  int64  \n",
      " 8   nPos             42820 non-null  int64  \n",
      " 9   P_after          42820 non-null  object \n",
      " 10  flexibility      42820 non-null  float64\n",
      " 11  SS               42820 non-null  object \n",
      " 12  SS_angle         42820 non-null  object \n",
      " 13  side-1           42820 non-null  object \n",
      " 14  side1            42820 non-null  object \n",
      " 15  side2            42820 non-null  object \n",
      " 16  side3            42820 non-null  object \n",
      " 17  side4            42820 non-null  object \n",
      " 18  side5            42820 non-null  object \n",
      " 19  ASA              42820 non-null  float64\n",
      " 20  Phi              42820 non-null  float64\n",
      " 21  Psi              42820 non-null  float64\n",
      " 22  Theta(i-1=>i+1)  42820 non-null  float64\n",
      " 23  Tau(i-2=>i+2)    42820 non-null  float64\n",
      " 24  HSE_alpha_up     42820 non-null  float64\n",
      " 25  HSE_alpha_down   42820 non-null  float64\n",
      " 26  P(C)             42820 non-null  float64\n",
      " 27  P(H)             42820 non-null  float64\n",
      " 28  P(E)             42820 non-null  float64\n",
      "dtypes: float64(11), int64(6), object(12)\n",
      "memory usage: 9.8+ MB\n"
     ]
    }
   ],
   "source": [
    "ml_data.info()"
   ]
  },
  {
   "cell_type": "code",
   "execution_count": 8,
   "id": "642bb7dc",
   "metadata": {
    "ExecuteTime": {
     "end_time": "2022-11-17T05:36:48.460545Z",
     "start_time": "2022-11-17T05:36:48.303963Z"
    }
   },
   "outputs": [
    {
     "name": "stdout",
     "output_type": "stream",
     "text": [
      "categorical data: (42820, 106)\n"
     ]
    },
    {
     "data": {
      "text/html": [
       "<div>\n",
       "<style scoped>\n",
       "    .dataframe tbody tr th:only-of-type {\n",
       "        vertical-align: middle;\n",
       "    }\n",
       "\n",
       "    .dataframe tbody tr th {\n",
       "        vertical-align: top;\n",
       "    }\n",
       "\n",
       "    .dataframe thead th {\n",
       "        text-align: right;\n",
       "    }\n",
       "</style>\n",
       "<table border=\"1\" class=\"dataframe\">\n",
       "  <thead>\n",
       "    <tr style=\"text-align: right;\">\n",
       "      <th></th>\n",
       "      <th>nSer_0</th>\n",
       "      <th>nSer_1</th>\n",
       "      <th>nSer_2</th>\n",
       "      <th>nSer_3</th>\n",
       "      <th>nSer_4</th>\n",
       "      <th>nSer_5</th>\n",
       "      <th>nSer_6</th>\n",
       "      <th>nSer_7</th>\n",
       "      <th>nSer_8</th>\n",
       "      <th>nSer_9</th>\n",
       "      <th>...</th>\n",
       "      <th>side4_small</th>\n",
       "      <th>side4_very small</th>\n",
       "      <th>side5_0</th>\n",
       "      <th>side5_cycle</th>\n",
       "      <th>side5_gly</th>\n",
       "      <th>side5_long</th>\n",
       "      <th>side5_normal</th>\n",
       "      <th>side5_pro</th>\n",
       "      <th>side5_small</th>\n",
       "      <th>side5_very small</th>\n",
       "    </tr>\n",
       "  </thead>\n",
       "  <tbody>\n",
       "    <tr>\n",
       "      <th>0</th>\n",
       "      <td>0</td>\n",
       "      <td>0</td>\n",
       "      <td>1</td>\n",
       "      <td>0</td>\n",
       "      <td>0</td>\n",
       "      <td>0</td>\n",
       "      <td>0</td>\n",
       "      <td>0</td>\n",
       "      <td>0</td>\n",
       "      <td>0</td>\n",
       "      <td>...</td>\n",
       "      <td>1</td>\n",
       "      <td>0</td>\n",
       "      <td>0</td>\n",
       "      <td>0</td>\n",
       "      <td>0</td>\n",
       "      <td>0</td>\n",
       "      <td>0</td>\n",
       "      <td>1</td>\n",
       "      <td>0</td>\n",
       "      <td>0</td>\n",
       "    </tr>\n",
       "  </tbody>\n",
       "</table>\n",
       "<p>1 rows × 106 columns</p>\n",
       "</div>"
      ],
      "text/plain": [
       "   nSer_0  nSer_1  nSer_2  nSer_3  nSer_4  nSer_5  nSer_6  nSer_7  nSer_8  \\\n",
       "0       0       0       1       0       0       0       0       0       0   \n",
       "\n",
       "   nSer_9  ...  side4_small  side4_very small  side5_0  side5_cycle  \\\n",
       "0       0  ...            1                 0        0            0   \n",
       "\n",
       "   side5_gly  side5_long  side5_normal  side5_pro  side5_small  \\\n",
       "0          0           0             0          1            0   \n",
       "\n",
       "   side5_very small  \n",
       "0                 0  \n",
       "\n",
       "[1 rows x 106 columns]"
      ]
     },
     "metadata": {},
     "output_type": "display_data"
    },
    {
     "name": "stdout",
     "output_type": "stream",
     "text": [
      "\n",
      "continuous data: (42820, 1)\n"
     ]
    },
    {
     "data": {
      "text/html": [
       "<div>\n",
       "<style scoped>\n",
       "    .dataframe tbody tr th:only-of-type {\n",
       "        vertical-align: middle;\n",
       "    }\n",
       "\n",
       "    .dataframe tbody tr th {\n",
       "        vertical-align: top;\n",
       "    }\n",
       "\n",
       "    .dataframe thead th {\n",
       "        text-align: right;\n",
       "    }\n",
       "</style>\n",
       "<table border=\"1\" class=\"dataframe\">\n",
       "  <thead>\n",
       "    <tr style=\"text-align: right;\">\n",
       "      <th></th>\n",
       "      <th>flexibility</th>\n",
       "    </tr>\n",
       "  </thead>\n",
       "  <tbody>\n",
       "    <tr>\n",
       "      <th>0</th>\n",
       "      <td>0.384</td>\n",
       "    </tr>\n",
       "  </tbody>\n",
       "</table>\n",
       "</div>"
      ],
      "text/plain": [
       "   flexibility\n",
       "0        0.384"
      ]
     },
     "metadata": {},
     "output_type": "display_data"
    },
    {
     "name": "stdout",
     "output_type": "stream",
     "text": [
      "\n",
      "label data: (42820, 1)\n"
     ]
    },
    {
     "data": {
      "text/html": [
       "<div>\n",
       "<style scoped>\n",
       "    .dataframe tbody tr th:only-of-type {\n",
       "        vertical-align: middle;\n",
       "    }\n",
       "\n",
       "    .dataframe tbody tr th {\n",
       "        vertical-align: top;\n",
       "    }\n",
       "\n",
       "    .dataframe thead th {\n",
       "        text-align: right;\n",
       "    }\n",
       "</style>\n",
       "<table border=\"1\" class=\"dataframe\">\n",
       "  <thead>\n",
       "    <tr style=\"text-align: right;\">\n",
       "      <th></th>\n",
       "      <th>positive</th>\n",
       "    </tr>\n",
       "  </thead>\n",
       "  <tbody>\n",
       "    <tr>\n",
       "      <th>0</th>\n",
       "      <td>0</td>\n",
       "    </tr>\n",
       "  </tbody>\n",
       "</table>\n",
       "</div>"
      ],
      "text/plain": [
       "   positive\n",
       "0         0"
      ]
     },
     "metadata": {},
     "output_type": "display_data"
    }
   ],
   "source": [
    "ml_data_mod = ml_data.astype({'nSer': 'object', 'nThr': 'object', 'nAli': 'object', 'nPos': 'object'})\n",
    "\n",
    "cat_columns = [\"nSer\", \"nThr\", \"nAli\", \"nPos\", \"P_after\", \"SEQ\", \"SS\", \"SS_angle\", \"side-1\", \"side1\", \"side2\", \"side3\", \"side4\", \"side5\"]\n",
    "ml_data_cat = pd.get_dummies(ml_data_mod[cat_columns])\n",
    "print(\"categorical data:\", ml_data_cat.shape)\n",
    "display(ml_data_cat.head(1))\n",
    "\n",
    "print()\n",
    "\n",
    "cts_columns = [\"flexibility\"]\n",
    "ml_data_cts = pd.get_dummies(ml_data[cts_columns])\n",
    "print(\"continuous data:\", ml_data_cts.shape)\n",
    "display(ml_data_cts.head(1))\n",
    "\n",
    "print()\n",
    "\n",
    "y_columns = [\"positive\"]\n",
    "ml_data_y = ml_data[y_columns]\n",
    "print(\"label data:\", ml_data_y.shape)\n",
    "display(ml_data_y.head(1))"
   ]
  },
  {
   "cell_type": "code",
   "execution_count": 9,
   "id": "40ce40d8",
   "metadata": {
    "ExecuteTime": {
     "end_time": "2022-11-17T05:36:48.476501Z",
     "start_time": "2022-11-17T05:36:48.462539Z"
    }
   },
   "outputs": [
    {
     "data": {
      "text/plain": [
       "Index(['nSer_0', 'nSer_1', 'nSer_2', 'nSer_3', 'nSer_4', 'nSer_5', 'nSer_6',\n",
       "       'nSer_7', 'nSer_8', 'nSer_9',\n",
       "       ...\n",
       "       'side4_small', 'side4_very small', 'side5_0', 'side5_cycle',\n",
       "       'side5_gly', 'side5_long', 'side5_normal', 'side5_pro', 'side5_small',\n",
       "       'side5_very small'],\n",
       "      dtype='object', length=106)"
      ]
     },
     "execution_count": 9,
     "metadata": {},
     "output_type": "execute_result"
    }
   ],
   "source": [
    "ml_data_cat.columns"
   ]
  },
  {
   "cell_type": "markdown",
   "id": "0e439356",
   "metadata": {},
   "source": [
    "# ML model development"
   ]
  },
  {
   "cell_type": "code",
   "execution_count": 10,
   "id": "8bee0161",
   "metadata": {
    "ExecuteTime": {
     "end_time": "2022-11-17T05:37:25.717403Z",
     "start_time": "2022-11-17T05:36:48.482485Z"
    }
   },
   "outputs": [],
   "source": [
    "from sklearn.model_selection import StratifiedShuffleSplit\n",
    "\n",
    "import tensorflow as tf\n",
    "from tensorflow import keras\n",
    "from tensorflow.keras.layers import *\n",
    "from keras.models import Model\n",
    "from keras.callbacks import ModelCheckpoint, EarlyStopping"
   ]
  },
  {
   "cell_type": "code",
   "execution_count": 11,
   "id": "3c16f00f",
   "metadata": {
    "ExecuteTime": {
     "end_time": "2022-11-17T05:37:25.733360Z",
     "start_time": "2022-11-17T05:37:25.718399Z"
    }
   },
   "outputs": [],
   "source": [
    "def basicMLP(x_dim, y_dim, n_layers, n_neurons):\n",
    "    mlp_input = Input(shape=(x_dim,), name='dense_input')\n",
    "    \n",
    "    # MLP module\n",
    "    for i in range(n_layers):\n",
    "        if i==0:\n",
    "            dense_output = Dense(n_neurons, name=f\"dense_{i+1}\")(mlp_input)\n",
    "        else: \n",
    "            dense_output = Dense(n_neurons, name=f\"dense_{i+1}\")(dense_output)\n",
    "    mlp_output = Dense(y_dim, name=f\"dense_output\", activation='sigmoid')(dense_output)\n",
    "    \n",
    "    model = Model(mlp_input, mlp_output)\n",
    "    optimizer = keras.optimizers.Adam(learning_rate = 0.001, beta_1=0.9, beta_2=0.999)\n",
    "    model.compile(loss='binary_crossentropy',optimizer = optimizer, metrics=['accuracy'])\n",
    "    \n",
    "    return model"
   ]
  },
  {
   "cell_type": "code",
   "execution_count": 12,
   "id": "7aabafb1",
   "metadata": {
    "ExecuteTime": {
     "end_time": "2022-11-17T05:37:28.852970Z",
     "start_time": "2022-11-17T05:37:25.735355Z"
    }
   },
   "outputs": [],
   "source": [
    "import matplotlib.pyplot as plt\n",
    "from sklearn.metrics import confusion_matrix\n",
    "from seaborn import heatmap\n",
    "from sklearn.metrics import accuracy_score, precision_score, recall_score, f1_score\n",
    "\n",
    "def plot_confusion(y_real, y_pred, title, label=[\"True\", \"False\"], size=4):\n",
    "    if y_real.max() == 1:\n",
    "        cm = confusion_matrix(y_real, y_pred)\n",
    "        cm = cm.flatten()[::-1].reshape(2,2)\n",
    "        plt.figure(figsize=(size*1.2,size))\n",
    "        heatmap(cm, annot=True, fmt='.0f',\n",
    "                cmap='Blues', \n",
    "                xticklabels=label, yticklabels=label)\n",
    "        plt.title(title)\n",
    "        plt.xlabel(\"Predicted\")\n",
    "        plt.ylabel(\"Real\")\n",
    "        plt.show()\n",
    "        \n",
    "        accuracy  = 100*np.array(accuracy_score(y_real, y_pred)).round(4)\n",
    "        precision = 100*np.array(precision_score(y_real, y_pred, average=None)).round(4)\n",
    "        recall    = 100*np.array(recall_score(y_real, y_pred, average=None)).round(4)\n",
    "        f1        = 100*np.array(f1_score(y_real, y_pred, average=None)).round(4)\n",
    "        print(f\"accuracy  : {accuracy}\")\n",
    "        print(f\"precision : {precision}\")\n",
    "        print(f\"recall    : {recall}\")\n",
    "        print(f\"f1_score  : {f1}\")"
   ]
  },
  {
   "cell_type": "code",
   "execution_count": 13,
   "id": "e1e9de22",
   "metadata": {
    "ExecuteTime": {
     "end_time": "2022-11-17T05:37:29.075375Z",
     "start_time": "2022-11-17T05:37:28.853969Z"
    }
   },
   "outputs": [
    {
     "name": "stdout",
     "output_type": "stream",
     "text": [
      "target dataset\n",
      "(42820, 107)\n",
      "(42820, 1)\n",
      "\n",
      "train/test dataset\n",
      "train: (34256, 107) (34256, 1)\n",
      "test: (8564, 107) (8564, 1)\n"
     ]
    }
   ],
   "source": [
    "data_x = pd.concat([ml_data_cts, ml_data_cat], axis=1)\n",
    "data_y = ml_data_y\n",
    "\n",
    "valid_size = 0.2\n",
    "test_size = 0.2\n",
    "random_state=1\n",
    "\n",
    "print(\"target dataset\")\n",
    "print(data_x.shape)\n",
    "print(data_y.shape)\n",
    "print(\"\")\n",
    "\n",
    "target_x = data_x\n",
    "target_y = data_y\n",
    "split = StratifiedShuffleSplit(n_splits = 1, test_size = test_size, random_state = random_state)\n",
    "for train_index, test_index in split.split(target_x, target_y):\n",
    "    train_x = target_x.loc[train_index]\n",
    "    train_y = target_y.loc[train_index]\n",
    "    \n",
    "    test_x = target_x.loc[test_index]\n",
    "    test_y = target_y.loc[test_index]\n",
    "    \n",
    "print(\"train/test dataset\")\n",
    "print(\"train:\", train_x.shape, train_y.shape)\n",
    "print(\"test:\", test_x.shape, test_y.shape)\n",
    "\n",
    "min_x = train_x.min(0)\n",
    "max_x = train_x.max(0)\n",
    "train_x_sc = (train_x - min_x) / (max_x - min_x)\n",
    "test_x_sc = (test_x - min_x) / (max_x - min_x)"
   ]
  },
  {
   "cell_type": "markdown",
   "id": "982706d0",
   "metadata": {},
   "source": [
    "## case 1: basic MLP\n",
    "train 80%(valid 20%) 34256 / test 20% 8564, \n",
    "positives 430 / 108, \n",
    "negatives 33826 / 8456"
   ]
  },
  {
   "cell_type": "code",
   "execution_count": 14,
   "id": "f52444f2",
   "metadata": {
    "ExecuteTime": {
     "end_time": "2022-11-17T05:37:34.545332Z",
     "start_time": "2022-11-17T05:37:29.076374Z"
    },
    "scrolled": true
   },
   "outputs": [
    {
     "name": "stdout",
     "output_type": "stream",
     "text": [
      "model is loaded from: ./model/basicMLP 107 1 5 100 1 v0.h5\n",
      "history is loaded from: ./result/basicMLP 107 1 5 100 1 v0.csv\n",
      "Model: \"model\"\n",
      "_________________________________________________________________\n",
      " Layer (type)                Output Shape              Param #   \n",
      "=================================================================\n",
      " dense_input (InputLayer)    [(None, 107)]             0         \n",
      "                                                                 \n",
      " dense_1 (Dense)             (None, 100)               10800     \n",
      "                                                                 \n",
      " dense_2 (Dense)             (None, 100)               10100     \n",
      "                                                                 \n",
      " dense_3 (Dense)             (None, 100)               10100     \n",
      "                                                                 \n",
      " dense_4 (Dense)             (None, 100)               10100     \n",
      "                                                                 \n",
      " dense_5 (Dense)             (None, 100)               10100     \n",
      "                                                                 \n",
      " dense_output (Dense)        (None, 1)                 101       \n",
      "                                                                 \n",
      "=================================================================\n",
      "Total params: 51,301\n",
      "Trainable params: 51,301\n",
      "Non-trainable params: 0\n",
      "_________________________________________________________________\n"
     ]
    }
   ],
   "source": [
    "model_type = 'basicMLP'\n",
    "x_dim = train_x.shape[1]\n",
    "y_dim = train_y.shape[1]\n",
    "n_layers = 5\n",
    "n_neurons = 100\n",
    "patience = 20\n",
    "early_stopping_cb = EarlyStopping(patience=patience, restore_best_weights=True, monitor='val_loss')\n",
    "\n",
    "mlp_model = basicMLP(x_dim, y_dim, n_layers, n_neurons)\n",
    "model_name = f\"{model_type} {x_dim} {y_dim} {n_layers} {n_neurons} {random_state} {version}\"\n",
    "save_path = f\"./model/{model_name}.h5\"\n",
    "history_path = f\"./result/{model_name}.csv\"\n",
    "\n",
    "if not exists(save_path) or update:\n",
    "    tf.random.set_seed(random_state)\n",
    "    time_start = time.time()\n",
    "    history = mlp_model.fit(train_x, train_y, verbose=2,\n",
    "                            epochs=1000, callbacks=[early_stopping_cb], validation_split= valid_size\n",
    "                        )\n",
    "    time_end = time.time()\n",
    "    time_elapse = round((time_end - time_start)/60, 3)\n",
    "    history_df = pd.DataFrame(history.history)\n",
    "    history_df.index.name = f\"{time_elapse} min\"\n",
    "\n",
    "    mlp_model.save_weights(save_path)\n",
    "    print(f\"model is saved to: {save_path}\")\n",
    "    \n",
    "    history_df.to_csv(history_path)\n",
    "    print(f\"history is saved to: {history_path}\")\n",
    "    \n",
    "else:\n",
    "    mlp_model.load_weights(save_path)\n",
    "    print(f\"model is loaded from: {save_path}\")\n",
    "    \n",
    "    history_df = pd.read_csv(history_path, index_col=0, header=0)\n",
    "    print(f\"history is loaded from: {history_path}\")\n",
    "    \n",
    "mlp_model.summary()"
   ]
  },
  {
   "cell_type": "code",
   "execution_count": 15,
   "id": "839d658b",
   "metadata": {
    "ExecuteTime": {
     "end_time": "2022-11-17T05:37:37.997634Z",
     "start_time": "2022-11-17T05:37:34.547327Z"
    }
   },
   "outputs": [
    {
     "name": "stdout",
     "output_type": "stream",
     "text": [
      "268/268 [==============================] - 3s 2ms/step\n"
     ]
    },
    {
     "data": {
      "image/png": "[encoded data removed]",
      "text/plain": [
       "<Figure size 345.6x288 with 2 Axes>"
      ]
     },
     "metadata": {
      "needs_background": "light"
     },
     "output_type": "display_data"
    },
    {
     "name": "stdout",
     "output_type": "stream",
     "text": [
      "accuracy  : 98.74000000000001\n",
      "precision : [98.74  0.  ]\n",
      "recall    : [100.   0.]\n",
      "f1_score  : [99.37  0.  ]\n"
     ]
    },
    {
     "name": "stderr",
     "output_type": "stream",
     "text": [
      "D:\\anaconda3\\envs\\dualattn\\lib\\site-packages\\sklearn\\metrics\\_classification.py:1318: UndefinedMetricWarning: Precision is ill-defined and being set to 0.0 in labels with no predicted samples. Use `zero_division` parameter to control this behavior.\n",
      "  _warn_prf(average, modifier, msg_start, len(result))\n"
     ]
    }
   ],
   "source": [
    "# plot result\n",
    "prediction = mlp_model.predict(test_x)\n",
    "prediction_int = prediction.round(0).astype(int)\n",
    "\n",
    "y_real = test_y.values\n",
    "y_pred = prediction_int\n",
    "    \n",
    "plot_confusion(y_real, y_pred, title=model_type, label=[\"Positive\",\"Negative\"])"
   ]
  },
  {
   "cell_type": "markdown",
   "id": "35c3b03e",
   "metadata": {},
   "source": [
    "## case 2: basic MLP with threshold \n",
    "train 80%(valid 20%) 34256 / test 20% 8564, \n",
    "positives 430 / 108, \n",
    "negatives 33826 / 8456"
   ]
  },
  {
   "cell_type": "code",
   "execution_count": 16,
   "id": "3d763307",
   "metadata": {
    "ExecuteTime": {
     "end_time": "2022-11-17T05:37:38.338721Z",
     "start_time": "2022-11-17T05:37:37.999628Z"
    }
   },
   "outputs": [
    {
     "name": "stdout",
     "output_type": "stream",
     "text": [
      "threshold: 0.04\n"
     ]
    },
    {
     "data": {
      "image/png": "[encoded data removed]",
      "text/plain": [
       "<Figure size 345.6x288 with 2 Axes>"
      ]
     },
     "metadata": {
      "needs_background": "light"
     },
     "output_type": "display_data"
    },
    {
     "name": "stdout",
     "output_type": "stream",
     "text": [
      "accuracy  : 96.11\n",
      "precision : [98.89  6.23]\n",
      "recall    : [97.15 14.81]\n",
      "f1_score  : [98.01  8.77]\n"
     ]
    }
   ],
   "source": [
    "# plot result\n",
    "thresholds = np.arange(0.01, 0.4, 0.01)\n",
    "f1_list = []\n",
    "for threshold in thresholds:\n",
    "    prediction_th = (prediction >= threshold).astype(int)\n",
    "\n",
    "    y_pred = prediction_th\n",
    "    f1 = f1_score(y_real, y_pred, average=None)\n",
    "    f1_list.append(f1)\n",
    "f1_arr = np.array(f1_list)\n",
    "best_index = f1_arr[:,1].argmax()\n",
    "\n",
    "threshold = thresholds[best_index]\n",
    "print(f\"threshold: {threshold}\")\n",
    "prediction_th = (prediction >= threshold).astype(int)\n",
    "\n",
    "y_pred = prediction_th\n",
    "\n",
    "plot_confusion(y_real, y_pred, title=model_type, label=[\"Positive\",\"Negative\"])"
   ]
  },
  {
   "cell_type": "markdown",
   "id": "58a4d8bc",
   "metadata": {},
   "source": [
    "## Case 3: basic MLP with up & down sampling"
   ]
  },
  {
   "cell_type": "code",
   "execution_count": 17,
   "id": "14590c74",
   "metadata": {
    "ExecuteTime": {
     "end_time": "2022-11-17T05:37:38.572098Z",
     "start_time": "2022-11-17T05:37:38.341715Z"
    }
   },
   "outputs": [],
   "source": [
    "import random\n",
    "random.seed(random_state)\n",
    "\n",
    "# upsampling for train dataset\n",
    "train_xy = pd.concat([train_x, train_y], axis=1)\n",
    "train_xy_pos = train_xy[train_xy['positive']==1]\n",
    "train_xy_neg = train_xy[train_xy['positive']==0]\n",
    "test_xy = pd.concat([test_x, test_y], axis=1)\n",
    "test_xy_pos = test_xy[test_xy['positive']==1]\n",
    "test_xy_neg = test_xy[test_xy['positive']==0]\n",
    "\n",
    "up_index = [random.choice(range(len(train_xy_pos))) for _ in range(len(train_xy_neg))] # get samples from positive sites\n",
    "up_sample = train_xy_pos.iloc[up_index]\n",
    "train_xy_up = pd.concat([up_sample, train_xy_neg], axis=0) # concatenate upsampled positives with negatives\n",
    "train_xy_up = train_xy_up.sample(frac=1, random_state=random_state) # shuffle the dataframe\n",
    "\n",
    "down_index = [random.choice(range(len(test_xy_neg))) for _ in range(len(test_xy_pos))] # get samples from positive sites\n",
    "down_sample = test_xy_neg.iloc[down_index]\n",
    "test_xy_down = pd.concat([down_sample, test_xy_pos], axis=0) # concatenate upsampled positives with negatives\n",
    "test_xy_down = test_xy_down.sample(frac=1, random_state=random_state) # shuffle the dataframe"
   ]
  },
  {
   "cell_type": "code",
   "execution_count": 18,
   "id": "241ad739",
   "metadata": {
    "ExecuteTime": {
     "end_time": "2022-11-17T05:37:38.604012Z",
     "start_time": "2022-11-17T05:37:38.574092Z"
    }
   },
   "outputs": [
    {
     "name": "stdout",
     "output_type": "stream",
     "text": [
      "up-sampled train dataset: (67652, 107) (67652, 1)\n",
      "down-sampled test dataset: (216, 107) (216, 1)\n"
     ]
    }
   ],
   "source": [
    "train_x_up = train_xy_up.iloc[:,:-1]\n",
    "train_y_up = train_xy_up.iloc[:,[-1]]\n",
    "\n",
    "test_x_down = test_xy_down.iloc[:,:-1]\n",
    "test_y_down = test_xy_down.iloc[:,[-1]]\n",
    "\n",
    "print(\"up-sampled train dataset:\", train_x_up.shape, train_y_up.shape)\n",
    "print(\"down-sampled test dataset:\", test_x_down.shape, test_y_down.shape)"
   ]
  },
  {
   "cell_type": "code",
   "execution_count": 19,
   "id": "5d167e14",
   "metadata": {
    "ExecuteTime": {
     "end_time": "2022-11-17T05:37:38.729676Z",
     "start_time": "2022-11-17T05:37:38.606007Z"
    }
   },
   "outputs": [
    {
     "name": "stdout",
     "output_type": "stream",
     "text": [
      "model is loaded from: ./model/basicMLP_sample 107 1 5 100 1 v0.h5\n",
      "history is loaded from: ./result/basicMLP_sample 107 1 5 100 1 v0.csv\n",
      "Model: \"model_1\"\n",
      "_________________________________________________________________\n",
      " Layer (type)                Output Shape              Param #   \n",
      "=================================================================\n",
      " dense_input (InputLayer)    [(None, 107)]             0         \n",
      "                                                                 \n",
      " dense_1 (Dense)             (None, 100)               10800     \n",
      "                                                                 \n",
      " dense_2 (Dense)             (None, 100)               10100     \n",
      "                                                                 \n",
      " dense_3 (Dense)             (None, 100)               10100     \n",
      "                                                                 \n",
      " dense_4 (Dense)             (None, 100)               10100     \n",
      "                                                                 \n",
      " dense_5 (Dense)             (None, 100)               10100     \n",
      "                                                                 \n",
      " dense_output (Dense)        (None, 1)                 101       \n",
      "                                                                 \n",
      "=================================================================\n",
      "Total params: 51,301\n",
      "Trainable params: 51,301\n",
      "Non-trainable params: 0\n",
      "_________________________________________________________________\n"
     ]
    }
   ],
   "source": [
    "model_type = 'basicMLP_sample'\n",
    "x_dim = train_x.shape[1]\n",
    "y_dim = train_y.shape[1]\n",
    "n_layers = 5\n",
    "n_neurons = 100\n",
    "patience = 20\n",
    "early_stopping_cb = EarlyStopping(patience=patience, restore_best_weights=True, monitor='val_loss')\n",
    "\n",
    "mlp_sample_model = basicMLP(x_dim, y_dim, n_layers, n_neurons)\n",
    "model_name = f\"{model_type} {x_dim} {y_dim} {n_layers} {n_neurons} {random_state} {version}\"\n",
    "save_path = f\"./model/{model_name}.h5\"\n",
    "history_path = f\"./result/{model_name}.csv\"\n",
    "\n",
    "if not exists(save_path) or update:\n",
    "    tf.random.set_seed(random_state)\n",
    "    time_start = time.time()\n",
    "    history = mlp_sample_model.fit(train_x_up, train_y_up, verbose=2,\n",
    "                            epochs=1000, callbacks=[early_stopping_cb], validation_split= valid_size\n",
    "                        )\n",
    "    time_end = time.time()\n",
    "    time_elapse = round((time_end - time_start)/60, 3)\n",
    "    history_df = pd.DataFrame(history.history)\n",
    "    history_df.index.name = f\"{time_elapse} min\"\n",
    "\n",
    "    mlp_sample_model.save_weights(save_path)\n",
    "    print(f\"model is saved to: {save_path}\")\n",
    "    \n",
    "    history_df.to_csv(history_path)\n",
    "    print(f\"history is saved to: {history_path}\")\n",
    "    \n",
    "else:\n",
    "    mlp_sample_model.load_weights(save_path)\n",
    "    print(f\"model is loaded from: {save_path}\")\n",
    "    \n",
    "    history_df = pd.read_csv(history_path, index_col=0, header=0)\n",
    "    print(f\"history is loaded from: {history_path}\")\n",
    "    \n",
    "mlp_sample_model.summary()"
   ]
  },
  {
   "cell_type": "code",
   "execution_count": 20,
   "id": "efa4567d",
   "metadata": {
    "ExecuteTime": {
     "end_time": "2022-11-17T05:37:39.839711Z",
     "start_time": "2022-11-17T05:37:38.732669Z"
    }
   },
   "outputs": [
    {
     "name": "stdout",
     "output_type": "stream",
     "text": [
      "268/268 [==============================] - 1s 3ms/step\n"
     ]
    },
    {
     "data": {
      "image/png": "[encoded data removed]",
      "text/plain": [
       "<Figure size 345.6x288 with 2 Axes>"
      ]
     },
     "metadata": {
      "needs_background": "light"
     },
     "output_type": "display_data"
    },
    {
     "name": "stdout",
     "output_type": "stream",
     "text": [
      "accuracy  : 66.2\n",
      "precision : [99.2   2.16]\n",
      "recall    : [66.3  58.33]\n",
      "f1_score  : [79.48  4.17]\n"
     ]
    }
   ],
   "source": [
    "# plot result\n",
    "prediction = mlp_sample_model.predict(test_x)\n",
    "prediction_int = prediction.round(0).astype(int)\n",
    "\n",
    "y_real = test_y.values\n",
    "y_pred = prediction_int\n",
    "\n",
    "plot_confusion(y_real, y_pred, title=model_type, label=[\"Positive\",\"Negative\"])"
   ]
  },
  {
   "cell_type": "code",
   "execution_count": 21,
   "id": "d38e24c2",
   "metadata": {
    "ExecuteTime": {
     "end_time": "2022-11-17T05:37:40.566766Z",
     "start_time": "2022-11-17T05:37:39.841704Z"
    }
   },
   "outputs": [
    {
     "name": "stdout",
     "output_type": "stream",
     "text": [
      "threshold: 0.7349999999999997\n"
     ]
    },
    {
     "data": {
      "image/png": "[encoded data removed]",
      "text/plain": [
       "<Figure size 345.6x288 with 2 Axes>"
      ]
     },
     "metadata": {
      "needs_background": "light"
     },
     "output_type": "display_data"
    },
    {
     "name": "stdout",
     "output_type": "stream",
     "text": [
      "accuracy  : 92.17999999999999\n",
      "precision : [98.96  4.08]\n",
      "recall    : [93.06 23.15]\n",
      "f1_score  : [95.92  6.94]\n"
     ]
    }
   ],
   "source": [
    "# plot result\n",
    "thresholds = np.arange(0.05, 0.9, 0.005)\n",
    "f1_list = []\n",
    "for threshold in thresholds:\n",
    "    prediction_th = (prediction >= threshold).astype(int)\n",
    "    y_pred = prediction_th\n",
    "    f1 = f1_score(y_real, y_pred, average=None)\n",
    "    f1_list.append(f1)\n",
    "f1_arr = np.array(f1_list)\n",
    "best_index = f1_arr[:,1].argmax()\n",
    "\n",
    "threshold = thresholds[best_index]\n",
    "print(f\"threshold: {threshold}\")\n",
    "prediction_th = (prediction >= threshold).astype(int)\n",
    "\n",
    "y_pred = prediction_th\n",
    " \n",
    "plot_confusion(y_real, y_pred, title=model_type+\" threshold\", label=[\"Positive\",\"Negative\"])"
   ]
  },
  {
   "cell_type": "markdown",
   "id": "12fa6060",
   "metadata": {},
   "source": [
    "## Case 4: ensemble MLP"
   ]
  },
  {
   "cell_type": "code",
   "execution_count": 22,
   "id": "4616979c",
   "metadata": {
    "ExecuteTime": {
     "end_time": "2022-11-17T05:37:51.627203Z",
     "start_time": "2022-11-17T05:37:40.568761Z"
    }
   },
   "outputs": [
    {
     "name": "stdout",
     "output_type": "stream",
     "text": [
      "0th model\n",
      "model is loaded from: ./model/ensembleMLP 107 1 5 100 0 v0.h5\n",
      "history is loaded from: ./result/ensembleMLP 107 1 5 100 0 v0.csv\n",
      "1th model\n",
      "model is loaded from: ./model/ensembleMLP 107 1 5 100 1 v0.h5\n",
      "history is loaded from: ./result/ensembleMLP 107 1 5 100 1 v0.csv\n",
      "2th model\n",
      "model is loaded from: ./model/ensembleMLP 107 1 5 100 2 v0.h5\n",
      "history is loaded from: ./result/ensembleMLP 107 1 5 100 2 v0.csv\n",
      "3th model\n",
      "model is loaded from: ./model/ensembleMLP 107 1 5 100 3 v0.h5\n",
      "history is loaded from: ./result/ensembleMLP 107 1 5 100 3 v0.csv\n",
      "4th model\n",
      "model is loaded from: ./model/ensembleMLP 107 1 5 100 4 v0.h5\n",
      "history is loaded from: ./result/ensembleMLP 107 1 5 100 4 v0.csv\n",
      "5th model\n",
      "model is loaded from: ./model/ensembleMLP 107 1 5 100 5 v0.h5\n",
      "history is loaded from: ./result/ensembleMLP 107 1 5 100 5 v0.csv\n",
      "6th model\n",
      "model is loaded from: ./model/ensembleMLP 107 1 5 100 6 v0.h5\n",
      "history is loaded from: ./result/ensembleMLP 107 1 5 100 6 v0.csv\n",
      "7th model\n",
      "model is loaded from: ./model/ensembleMLP 107 1 5 100 7 v0.h5\n",
      "history is loaded from: ./result/ensembleMLP 107 1 5 100 7 v0.csv\n",
      "8th model\n",
      "model is loaded from: ./model/ensembleMLP 107 1 5 100 8 v0.h5\n",
      "history is loaded from: ./result/ensembleMLP 107 1 5 100 8 v0.csv\n",
      "9th model\n",
      "model is loaded from: ./model/ensembleMLP 107 1 5 100 9 v0.h5\n",
      "history is loaded from: ./result/ensembleMLP 107 1 5 100 9 v0.csv\n",
      "10th model\n",
      "model is loaded from: ./model/ensembleMLP 107 1 5 100 10 v0.h5\n",
      "history is loaded from: ./result/ensembleMLP 107 1 5 100 10 v0.csv\n",
      "11th model\n",
      "model is loaded from: ./model/ensembleMLP 107 1 5 100 11 v0.h5\n",
      "history is loaded from: ./result/ensembleMLP 107 1 5 100 11 v0.csv\n",
      "12th model\n",
      "model is loaded from: ./model/ensembleMLP 107 1 5 100 12 v0.h5\n",
      "history is loaded from: ./result/ensembleMLP 107 1 5 100 12 v0.csv\n",
      "13th model\n",
      "model is loaded from: ./model/ensembleMLP 107 1 5 100 13 v0.h5\n",
      "history is loaded from: ./result/ensembleMLP 107 1 5 100 13 v0.csv\n",
      "14th model\n",
      "model is loaded from: ./model/ensembleMLP 107 1 5 100 14 v0.h5\n",
      "history is loaded from: ./result/ensembleMLP 107 1 5 100 14 v0.csv\n",
      "15th model\n",
      "model is loaded from: ./model/ensembleMLP 107 1 5 100 15 v0.h5\n",
      "history is loaded from: ./result/ensembleMLP 107 1 5 100 15 v0.csv\n",
      "16th model\n",
      "model is loaded from: ./model/ensembleMLP 107 1 5 100 16 v0.h5\n",
      "history is loaded from: ./result/ensembleMLP 107 1 5 100 16 v0.csv\n",
      "17th model\n",
      "model is loaded from: ./model/ensembleMLP 107 1 5 100 17 v0.h5\n",
      "history is loaded from: ./result/ensembleMLP 107 1 5 100 17 v0.csv\n",
      "18th model\n",
      "model is loaded from: ./model/ensembleMLP 107 1 5 100 18 v0.h5\n",
      "history is loaded from: ./result/ensembleMLP 107 1 5 100 18 v0.csv\n",
      "19th model\n",
      "model is loaded from: ./model/ensembleMLP 107 1 5 100 19 v0.h5\n",
      "history is loaded from: ./result/ensembleMLP 107 1 5 100 19 v0.csv\n",
      "20th model\n",
      "model is loaded from: ./model/ensembleMLP 107 1 5 100 20 v0.h5\n",
      "history is loaded from: ./result/ensembleMLP 107 1 5 100 20 v0.csv\n",
      "21th model\n",
      "model is loaded from: ./model/ensembleMLP 107 1 5 100 21 v0.h5\n",
      "history is loaded from: ./result/ensembleMLP 107 1 5 100 21 v0.csv\n",
      "22th model\n",
      "model is loaded from: ./model/ensembleMLP 107 1 5 100 22 v0.h5\n",
      "history is loaded from: ./result/ensembleMLP 107 1 5 100 22 v0.csv\n",
      "23th model\n",
      "model is loaded from: ./model/ensembleMLP 107 1 5 100 23 v0.h5\n",
      "history is loaded from: ./result/ensembleMLP 107 1 5 100 23 v0.csv\n",
      "24th model\n",
      "model is loaded from: ./model/ensembleMLP 107 1 5 100 24 v0.h5\n",
      "history is loaded from: ./result/ensembleMLP 107 1 5 100 24 v0.csv\n",
      "25th model\n",
      "model is loaded from: ./model/ensembleMLP 107 1 5 100 25 v0.h5\n",
      "history is loaded from: ./result/ensembleMLP 107 1 5 100 25 v0.csv\n",
      "26th model\n",
      "model is loaded from: ./model/ensembleMLP 107 1 5 100 26 v0.h5\n",
      "history is loaded from: ./result/ensembleMLP 107 1 5 100 26 v0.csv\n",
      "27th model\n",
      "model is loaded from: ./model/ensembleMLP 107 1 5 100 27 v0.h5\n",
      "history is loaded from: ./result/ensembleMLP 107 1 5 100 27 v0.csv\n",
      "28th model\n",
      "model is loaded from: ./model/ensembleMLP 107 1 5 100 28 v0.h5\n",
      "history is loaded from: ./result/ensembleMLP 107 1 5 100 28 v0.csv\n",
      "29th model\n",
      "model is loaded from: ./model/ensembleMLP 107 1 5 100 29 v0.h5\n",
      "history is loaded from: ./result/ensembleMLP 107 1 5 100 29 v0.csv\n",
      "30th model\n",
      "model is loaded from: ./model/ensembleMLP 107 1 5 100 30 v0.h5\n",
      "history is loaded from: ./result/ensembleMLP 107 1 5 100 30 v0.csv\n",
      "31th model\n",
      "model is loaded from: ./model/ensembleMLP 107 1 5 100 31 v0.h5\n",
      "history is loaded from: ./result/ensembleMLP 107 1 5 100 31 v0.csv\n",
      "32th model\n",
      "model is loaded from: ./model/ensembleMLP 107 1 5 100 32 v0.h5\n",
      "history is loaded from: ./result/ensembleMLP 107 1 5 100 32 v0.csv\n",
      "33th model\n",
      "model is loaded from: ./model/ensembleMLP 107 1 5 100 33 v0.h5\n",
      "history is loaded from: ./result/ensembleMLP 107 1 5 100 33 v0.csv\n",
      "34th model\n",
      "model is loaded from: ./model/ensembleMLP 107 1 5 100 34 v0.h5\n",
      "history is loaded from: ./result/ensembleMLP 107 1 5 100 34 v0.csv\n",
      "35th model\n",
      "model is loaded from: ./model/ensembleMLP 107 1 5 100 35 v0.h5\n",
      "history is loaded from: ./result/ensembleMLP 107 1 5 100 35 v0.csv\n",
      "36th model\n",
      "model is loaded from: ./model/ensembleMLP 107 1 5 100 36 v0.h5\n",
      "history is loaded from: ./result/ensembleMLP 107 1 5 100 36 v0.csv\n",
      "37th model\n",
      "model is loaded from: ./model/ensembleMLP 107 1 5 100 37 v0.h5\n",
      "history is loaded from: ./result/ensembleMLP 107 1 5 100 37 v0.csv\n",
      "38th model\n",
      "model is loaded from: ./model/ensembleMLP 107 1 5 100 38 v0.h5\n",
      "history is loaded from: ./result/ensembleMLP 107 1 5 100 38 v0.csv\n",
      "39th model\n",
      "model is loaded from: ./model/ensembleMLP 107 1 5 100 39 v0.h5\n",
      "history is loaded from: ./result/ensembleMLP 107 1 5 100 39 v0.csv\n",
      "40th model\n",
      "model is loaded from: ./model/ensembleMLP 107 1 5 100 40 v0.h5\n",
      "history is loaded from: ./result/ensembleMLP 107 1 5 100 40 v0.csv\n",
      "41th model\n",
      "model is loaded from: ./model/ensembleMLP 107 1 5 100 41 v0.h5\n",
      "history is loaded from: ./result/ensembleMLP 107 1 5 100 41 v0.csv\n",
      "42th model\n",
      "model is loaded from: ./model/ensembleMLP 107 1 5 100 42 v0.h5\n",
      "history is loaded from: ./result/ensembleMLP 107 1 5 100 42 v0.csv\n",
      "43th model\n",
      "model is loaded from: ./model/ensembleMLP 107 1 5 100 43 v0.h5\n",
      "history is loaded from: ./result/ensembleMLP 107 1 5 100 43 v0.csv\n",
      "44th model\n",
      "model is loaded from: ./model/ensembleMLP 107 1 5 100 44 v0.h5\n",
      "history is loaded from: ./result/ensembleMLP 107 1 5 100 44 v0.csv\n",
      "45th model\n",
      "model is loaded from: ./model/ensembleMLP 107 1 5 100 45 v0.h5\n",
      "history is loaded from: ./result/ensembleMLP 107 1 5 100 45 v0.csv\n",
      "46th model\n",
      "model is loaded from: ./model/ensembleMLP 107 1 5 100 46 v0.h5\n",
      "history is loaded from: ./result/ensembleMLP 107 1 5 100 46 v0.csv\n",
      "47th model\n",
      "model is loaded from: ./model/ensembleMLP 107 1 5 100 47 v0.h5\n",
      "history is loaded from: ./result/ensembleMLP 107 1 5 100 47 v0.csv\n",
      "48th model\n",
      "model is loaded from: ./model/ensembleMLP 107 1 5 100 48 v0.h5\n",
      "history is loaded from: ./result/ensembleMLP 107 1 5 100 48 v0.csv\n",
      "49th model\n",
      "model is loaded from: ./model/ensembleMLP 107 1 5 100 49 v0.h5\n",
      "history is loaded from: ./result/ensembleMLP 107 1 5 100 49 v0.csv\n",
      "50th model\n",
      "model is loaded from: ./model/ensembleMLP 107 1 5 100 50 v0.h5\n",
      "history is loaded from: ./result/ensembleMLP 107 1 5 100 50 v0.csv\n",
      "51th model\n",
      "model is loaded from: ./model/ensembleMLP 107 1 5 100 51 v0.h5\n",
      "history is loaded from: ./result/ensembleMLP 107 1 5 100 51 v0.csv\n",
      "52th model\n",
      "model is loaded from: ./model/ensembleMLP 107 1 5 100 52 v0.h5\n",
      "history is loaded from: ./result/ensembleMLP 107 1 5 100 52 v0.csv\n",
      "53th model\n",
      "model is loaded from: ./model/ensembleMLP 107 1 5 100 53 v0.h5\n",
      "history is loaded from: ./result/ensembleMLP 107 1 5 100 53 v0.csv\n",
      "54th model\n",
      "model is loaded from: ./model/ensembleMLP 107 1 5 100 54 v0.h5\n",
      "history is loaded from: ./result/ensembleMLP 107 1 5 100 54 v0.csv\n",
      "55th model\n",
      "model is loaded from: ./model/ensembleMLP 107 1 5 100 55 v0.h5\n",
      "history is loaded from: ./result/ensembleMLP 107 1 5 100 55 v0.csv\n",
      "56th model\n",
      "model is loaded from: ./model/ensembleMLP 107 1 5 100 56 v0.h5\n",
      "history is loaded from: ./result/ensembleMLP 107 1 5 100 56 v0.csv\n",
      "57th model\n",
      "model is loaded from: ./model/ensembleMLP 107 1 5 100 57 v0.h5\n",
      "history is loaded from: ./result/ensembleMLP 107 1 5 100 57 v0.csv\n",
      "58th model\n",
      "model is loaded from: ./model/ensembleMLP 107 1 5 100 58 v0.h5\n",
      "history is loaded from: ./result/ensembleMLP 107 1 5 100 58 v0.csv\n",
      "59th model\n"
     ]
    },
    {
     "name": "stdout",
     "output_type": "stream",
     "text": [
      "model is loaded from: ./model/ensembleMLP 107 1 5 100 59 v0.h5\n",
      "history is loaded from: ./result/ensembleMLP 107 1 5 100 59 v0.csv\n",
      "60th model\n",
      "model is loaded from: ./model/ensembleMLP 107 1 5 100 60 v0.h5\n",
      "history is loaded from: ./result/ensembleMLP 107 1 5 100 60 v0.csv\n",
      "61th model\n",
      "model is loaded from: ./model/ensembleMLP 107 1 5 100 61 v0.h5\n",
      "history is loaded from: ./result/ensembleMLP 107 1 5 100 61 v0.csv\n",
      "62th model\n",
      "model is loaded from: ./model/ensembleMLP 107 1 5 100 62 v0.h5\n",
      "history is loaded from: ./result/ensembleMLP 107 1 5 100 62 v0.csv\n",
      "63th model\n",
      "model is loaded from: ./model/ensembleMLP 107 1 5 100 63 v0.h5\n",
      "history is loaded from: ./result/ensembleMLP 107 1 5 100 63 v0.csv\n",
      "64th model\n",
      "model is loaded from: ./model/ensembleMLP 107 1 5 100 64 v0.h5\n",
      "history is loaded from: ./result/ensembleMLP 107 1 5 100 64 v0.csv\n",
      "65th model\n",
      "model is loaded from: ./model/ensembleMLP 107 1 5 100 65 v0.h5\n",
      "history is loaded from: ./result/ensembleMLP 107 1 5 100 65 v0.csv\n",
      "66th model\n",
      "model is loaded from: ./model/ensembleMLP 107 1 5 100 66 v0.h5\n",
      "history is loaded from: ./result/ensembleMLP 107 1 5 100 66 v0.csv\n",
      "67th model\n",
      "model is loaded from: ./model/ensembleMLP 107 1 5 100 67 v0.h5\n",
      "history is loaded from: ./result/ensembleMLP 107 1 5 100 67 v0.csv\n",
      "68th model\n",
      "model is loaded from: ./model/ensembleMLP 107 1 5 100 68 v0.h5\n",
      "history is loaded from: ./result/ensembleMLP 107 1 5 100 68 v0.csv\n",
      "69th model\n",
      "model is loaded from: ./model/ensembleMLP 107 1 5 100 69 v0.h5\n",
      "history is loaded from: ./result/ensembleMLP 107 1 5 100 69 v0.csv\n",
      "70th model\n",
      "model is loaded from: ./model/ensembleMLP 107 1 5 100 70 v0.h5\n",
      "history is loaded from: ./result/ensembleMLP 107 1 5 100 70 v0.csv\n",
      "71th model\n",
      "model is loaded from: ./model/ensembleMLP 107 1 5 100 71 v0.h5\n",
      "history is loaded from: ./result/ensembleMLP 107 1 5 100 71 v0.csv\n",
      "72th model\n",
      "model is loaded from: ./model/ensembleMLP 107 1 5 100 72 v0.h5\n",
      "history is loaded from: ./result/ensembleMLP 107 1 5 100 72 v0.csv\n",
      "73th model\n",
      "model is loaded from: ./model/ensembleMLP 107 1 5 100 73 v0.h5\n",
      "history is loaded from: ./result/ensembleMLP 107 1 5 100 73 v0.csv\n",
      "74th model\n",
      "model is loaded from: ./model/ensembleMLP 107 1 5 100 74 v0.h5\n",
      "history is loaded from: ./result/ensembleMLP 107 1 5 100 74 v0.csv\n",
      "75th model\n",
      "model is loaded from: ./model/ensembleMLP 107 1 5 100 75 v0.h5\n",
      "history is loaded from: ./result/ensembleMLP 107 1 5 100 75 v0.csv\n",
      "76th model\n",
      "model is loaded from: ./model/ensembleMLP 107 1 5 100 76 v0.h5\n",
      "history is loaded from: ./result/ensembleMLP 107 1 5 100 76 v0.csv\n",
      "77th model\n",
      "model is loaded from: ./model/ensembleMLP 107 1 5 100 77 v0.h5\n",
      "history is loaded from: ./result/ensembleMLP 107 1 5 100 77 v0.csv\n",
      "78th model\n",
      "model is loaded from: ./model/ensembleMLP 107 1 5 100 78 v0.h5\n",
      "history is loaded from: ./result/ensembleMLP 107 1 5 100 78 v0.csv\n",
      "79th model\n",
      "model is loaded from: ./model/ensembleMLP 107 1 5 100 79 v0.h5\n",
      "history is loaded from: ./result/ensembleMLP 107 1 5 100 79 v0.csv\n",
      "80th model\n",
      "model is loaded from: ./model/ensembleMLP 107 1 5 100 80 v0.h5\n",
      "history is loaded from: ./result/ensembleMLP 107 1 5 100 80 v0.csv\n",
      "81th model\n",
      "model is loaded from: ./model/ensembleMLP 107 1 5 100 81 v0.h5\n",
      "history is loaded from: ./result/ensembleMLP 107 1 5 100 81 v0.csv\n",
      "82th model\n",
      "model is loaded from: ./model/ensembleMLP 107 1 5 100 82 v0.h5\n",
      "history is loaded from: ./result/ensembleMLP 107 1 5 100 82 v0.csv\n",
      "83th model\n",
      "model is loaded from: ./model/ensembleMLP 107 1 5 100 83 v0.h5\n",
      "history is loaded from: ./result/ensembleMLP 107 1 5 100 83 v0.csv\n",
      "84th model\n",
      "model is loaded from: ./model/ensembleMLP 107 1 5 100 84 v0.h5\n",
      "history is loaded from: ./result/ensembleMLP 107 1 5 100 84 v0.csv\n",
      "85th model\n",
      "model is loaded from: ./model/ensembleMLP 107 1 5 100 85 v0.h5\n",
      "history is loaded from: ./result/ensembleMLP 107 1 5 100 85 v0.csv\n",
      "86th model\n",
      "model is loaded from: ./model/ensembleMLP 107 1 5 100 86 v0.h5\n",
      "history is loaded from: ./result/ensembleMLP 107 1 5 100 86 v0.csv\n",
      "87th model\n",
      "model is loaded from: ./model/ensembleMLP 107 1 5 100 87 v0.h5\n",
      "history is loaded from: ./result/ensembleMLP 107 1 5 100 87 v0.csv\n",
      "88th model\n",
      "model is loaded from: ./model/ensembleMLP 107 1 5 100 88 v0.h5\n",
      "history is loaded from: ./result/ensembleMLP 107 1 5 100 88 v0.csv\n",
      "89th model\n",
      "model is loaded from: ./model/ensembleMLP 107 1 5 100 89 v0.h5\n",
      "history is loaded from: ./result/ensembleMLP 107 1 5 100 89 v0.csv\n",
      "90th model\n",
      "model is loaded from: ./model/ensembleMLP 107 1 5 100 90 v0.h5\n",
      "history is loaded from: ./result/ensembleMLP 107 1 5 100 90 v0.csv\n",
      "91th model\n",
      "model is loaded from: ./model/ensembleMLP 107 1 5 100 91 v0.h5\n",
      "history is loaded from: ./result/ensembleMLP 107 1 5 100 91 v0.csv\n",
      "92th model\n",
      "model is loaded from: ./model/ensembleMLP 107 1 5 100 92 v0.h5\n",
      "history is loaded from: ./result/ensembleMLP 107 1 5 100 92 v0.csv\n",
      "93th model\n",
      "model is loaded from: ./model/ensembleMLP 107 1 5 100 93 v0.h5\n",
      "history is loaded from: ./result/ensembleMLP 107 1 5 100 93 v0.csv\n",
      "94th model\n",
      "model is loaded from: ./model/ensembleMLP 107 1 5 100 94 v0.h5\n",
      "history is loaded from: ./result/ensembleMLP 107 1 5 100 94 v0.csv\n",
      "95th model\n",
      "model is loaded from: ./model/ensembleMLP 107 1 5 100 95 v0.h5\n",
      "history is loaded from: ./result/ensembleMLP 107 1 5 100 95 v0.csv\n",
      "96th model\n",
      "model is loaded from: ./model/ensembleMLP 107 1 5 100 96 v0.h5\n",
      "history is loaded from: ./result/ensembleMLP 107 1 5 100 96 v0.csv\n",
      "97th model\n",
      "model is loaded from: ./model/ensembleMLP 107 1 5 100 97 v0.h5\n",
      "history is loaded from: ./result/ensembleMLP 107 1 5 100 97 v0.csv\n",
      "98th model\n",
      "model is loaded from: ./model/ensembleMLP 107 1 5 100 98 v0.h5\n",
      "history is loaded from: ./result/ensembleMLP 107 1 5 100 98 v0.csv\n",
      "99th model\n",
      "model is loaded from: ./model/ensembleMLP 107 1 5 100 99 v0.h5\n",
      "history is loaded from: ./result/ensembleMLP 107 1 5 100 99 v0.csv\n"
     ]
    }
   ],
   "source": [
    "model_type = 'ensembleMLP'\n",
    "x_dim = train_x.shape[1]\n",
    "y_dim = train_y.shape[1]\n",
    "n_models = 100\n",
    "frac = 0.05\n",
    "n_layers = 5\n",
    "n_neurons = 100\n",
    "patience = 20\n",
    "early_stopping_cb = EarlyStopping(patience=patience, restore_best_weights=True, monitor='val_loss')\n",
    "\n",
    "ensemble_models = []\n",
    "for i in range(n_models):\n",
    "    print(f\"{i}th model\")\n",
    "    random.seed(i)\n",
    "\n",
    "    # upsampling for train dataset\n",
    "    train_xy = pd.concat([train_x, train_y], axis=1)\n",
    "    train_xy_pos = train_xy[train_xy['positive']==1]\n",
    "    train_xy_neg = train_xy[train_xy['positive']==0]\n",
    "    ensemble_xy_neg = train_xy_neg.sample(frac=frac, random_state=i)\n",
    "    ensemble_xy = pd.concat([train_xy_pos, ensemble_xy_neg], axis=0) # concatenate upsampled positives with negatives\n",
    "    \n",
    "    ensemble_x = ensemble_xy.iloc[:,:-1]\n",
    "    ensemble_y = ensemble_xy.iloc[:,[-1]]\n",
    "\n",
    "    ensemble_model = basicMLP(x_dim, y_dim, n_layers, n_neurons)\n",
    "    model_name   = f\"{model_type} {x_dim} {y_dim} {n_layers} {n_neurons} {i} {version}\"\n",
    "    save_path    = f\"./model/{model_name}.h5\"\n",
    "    history_path = f\"./result/{model_name}.csv\"\n",
    "\n",
    "    if not exists(save_path) or update:\n",
    "        tf.random.set_seed(i)\n",
    "        time_start = time.time()\n",
    "        history = ensemble_model.fit(ensemble_x, ensemble_y, verbose=0,\n",
    "                                     epochs=1000, callbacks=[early_stopping_cb], validation_split= valid_size)\n",
    "        time_end = time.time()\n",
    "        time_elapse = round((time_end - time_start)/60, 3)\n",
    "        history_df = pd.DataFrame(history.history)\n",
    "        history_df.index.name = f\"{time_elapse} min\"\n",
    "\n",
    "        ensemble_model.save_weights(save_path)\n",
    "        print(f\"model is saved to: {save_path}\")\n",
    "\n",
    "        history_df.to_csv(history_path)\n",
    "        print(f\"history is saved to: {history_path}\")\n",
    "        \n",
    "        ensemble_models.append(ensemble_model)\n",
    "    \n",
    "    else:\n",
    "        ensemble_model.load_weights(save_path)\n",
    "        print(f\"model is loaded from: {save_path}\")\n",
    "\n",
    "        history_df = pd.read_csv(history_path, index_col=0, header=0)\n",
    "        print(f\"history is loaded from: {history_path}\")\n",
    "        \n",
    "        ensemble_models.append(ensemble_model)"
   ]
  },
  {
   "cell_type": "code",
   "execution_count": 23,
   "id": "deb58ea2",
   "metadata": {
    "ExecuteTime": {
     "end_time": "2022-11-17T05:38:52.690808Z",
     "start_time": "2022-11-17T05:37:51.629199Z"
    }
   },
   "outputs": [],
   "source": [
    "predictions = []\n",
    "for model in ensemble_models:\n",
    "    prediction = model.predict(test_x, verbose=0)\n",
    "    predictions.append(prediction)\n"
   ]
  },
  {
   "cell_type": "code",
   "execution_count": 24,
   "id": "1766a2e4",
   "metadata": {
    "ExecuteTime": {
     "end_time": "2022-11-17T05:38:52.864344Z",
     "start_time": "2022-11-17T05:38:52.691805Z"
    }
   },
   "outputs": [
    {
     "data": {
      "image/png": "[encoded data removed]",
      "text/plain": [
       "<Figure size 345.6x288 with 2 Axes>"
      ]
     },
     "metadata": {
      "needs_background": "light"
     },
     "output_type": "display_data"
    },
    {
     "name": "stdout",
     "output_type": "stream",
     "text": [
      "accuracy  : 96.56\n",
      "precision : [98.82  4.39]\n",
      "recall    : [97.68  8.33]\n",
      "f1_score  : [98.25  5.75]\n"
     ]
    }
   ],
   "source": [
    "predictions_arr = np.array(predictions)\n",
    "prediction_soft = predictions_arr.mean(0)\n",
    "prediction_soft = prediction_soft.round(0).astype(int)\n",
    "\n",
    "# plot result\n",
    "y_real = test_y.values\n",
    "y_pred = prediction_soft\n",
    "\n",
    "plot_confusion(y_real, y_pred, title=model_type, label=[\"Positive\",\"Negative\"])"
   ]
  },
  {
   "cell_type": "markdown",
   "id": "12cbe9ab",
   "metadata": {},
   "source": [
    "## Case 5: ensemble MLP with threshold"
   ]
  },
  {
   "cell_type": "code",
   "execution_count": 25,
   "id": "fe7996e2",
   "metadata": {
    "ExecuteTime": {
     "end_time": "2022-11-17T05:38:54.624643Z",
     "start_time": "2022-11-17T05:38:52.866339Z"
    }
   },
   "outputs": [
    {
     "name": "stdout",
     "output_type": "stream",
     "text": [
      "threshold: 0.46999999999999964\n"
     ]
    },
    {
     "data": {
      "image/png": "[encoded data removed]",
      "text/plain": [
       "<Figure size 345.6x288 with 2 Axes>"
      ]
     },
     "metadata": {
      "needs_background": "light"
     },
     "output_type": "display_data"
    },
    {
     "name": "stdout",
     "output_type": "stream",
     "text": [
      "accuracy  : 95.94\n",
      "precision : [98.88  5.56]\n",
      "recall    : [96.98 13.89]\n",
      "f1_score  : [97.92  7.94]\n"
     ]
    }
   ],
   "source": [
    "# plot result\n",
    "predictions_arr = np.array(predictions)\n",
    "prediction_soft = predictions_arr.mean(0)\n",
    "\n",
    "thresholds = np.arange(0.01, 0.9, 0.001)\n",
    "f1_list = []\n",
    "for threshold in thresholds:\n",
    "    prediction_th = (prediction_soft >= threshold).astype(int)\n",
    "\n",
    "    y_pred = prediction_th\n",
    "    f1 = f1_score(y_real, y_pred, average=None)\n",
    "    f1_list.append(f1)\n",
    "f1_arr = np.array(f1_list)\n",
    "best_index = f1_arr[:,1].argmax()\n",
    "\n",
    "threshold = thresholds[best_index]\n",
    "print(f\"threshold: {threshold}\")\n",
    "prediction_th = (prediction_soft >= threshold).astype(int)\n",
    "\n",
    "y_pred = prediction_th\n",
    "\n",
    "plot_confusion(y_real, y_pred, title=model_type, label=[\"Positive\",\"Negative\"])"
   ]
  },
  {
   "cell_type": "markdown",
   "id": "ebf97ba2",
   "metadata": {},
   "source": [
    "## Case 6: basic RNN"
   ]
  },
  {
   "cell_type": "code",
   "execution_count": 26,
   "id": "d26da101",
   "metadata": {
    "ExecuteTime": {
     "end_time": "2022-11-17T05:38:55.019638Z",
     "start_time": "2022-11-17T05:38:54.626633Z"
    }
   },
   "outputs": [
    {
     "data": {
      "text/plain": [
       "S    26408\n",
       "L    22207\n",
       "A    20490\n",
       "P    19930\n",
       "E    19446\n",
       "G    17145\n",
       "T    16694\n",
       "K    16144\n",
       "V    15849\n",
       "Q    14453\n",
       "R    14353\n",
       "D    12784\n",
       "I    10357\n",
       "N     9593\n",
       "F     7609\n",
       "H     6194\n",
       "Y     5785\n",
       "M     5312\n",
       "C     4323\n",
       "W     2116\n",
       "X        2\n",
       "         1\n",
       "dtype: int64"
      ]
     },
     "execution_count": 26,
     "metadata": {},
     "output_type": "execute_result"
    }
   ],
   "source": [
    "save_name = \"all_sites_group.csv\"\n",
    "all_sites = pd.read_csv(save_name)\n",
    "series = all_sites['sequence'].apply(lambda x: pd.Series([f\"{i}\" for i in x]))\n",
    "array = series.to_numpy()\n",
    "ravel = array.reshape(-1)\n",
    "series = pd.Series(ravel)\n",
    "\n",
    "'''\n",
    "Alanine (Ala, A)\n",
    "Arginine (Arg, R)\n",
    "Asparagine (Asn, N)\n",
    "Aspartic acid (Asp, D)\n",
    "Cysteine (Cys, C)\n",
    "Glutamic acid (Glu, E)\n",
    "Glutamine (Gln, Q)\n",
    "Glycine (Gly, G)\n",
    "Histidine (His, H)\n",
    "Isoleucine (Ile, I)\n",
    "Leucine (Leu, L)\n",
    "Lysine (Lys, K)\n",
    "Methionine (Met, M)\n",
    "Phenylalanine (Phe, F)\n",
    "Proline (Pro, P)\n",
    "Serine (Ser, S)\n",
    "Threonine (Thr, T)\n",
    "Tryptophan (Trp, W)\n",
    "Tyrosine (Tyr, Y)\n",
    "Valine (Val, V)\n",
    "'''\n",
    "\n",
    "series.value_counts()"
   ]
  },
  {
   "cell_type": "code",
   "execution_count": 27,
   "id": "c17d9809",
   "metadata": {
    "ExecuteTime": {
     "end_time": "2022-11-17T05:38:55.035596Z",
     "start_time": "2022-11-17T05:38:55.020635Z"
    }
   },
   "outputs": [],
   "source": [
    "def make_string(x, size):\n",
    "    index = x.find('\"')\n",
    "    return x[max(index-size,0):index]+x[index+1]+x[index+3:min(index+3+size, len(x))]"
   ]
  },
  {
   "cell_type": "code",
   "execution_count": 28,
   "id": "c8907820",
   "metadata": {
    "ExecuteTime": {
     "end_time": "2022-11-17T05:38:55.051553Z",
     "start_time": "2022-11-17T05:38:55.038589Z"
    }
   },
   "outputs": [],
   "source": [
    "dictionary = {\"A\":1, \"R\":2, \"N\":3, \"D\":4, \"C\":5, \n",
    "              \"E\":6, \"Q\":7, \"G\":8, \"H\":9, \"I\":10, \n",
    "              \"L\":11, \"K\":12, \"M\":13, \"F\":14, \"P\":15, \n",
    "              \"S\":16, \"T\":17, \"W\":18, \"Y\":19, \"V\":20}\n",
    "num_AA = len(dictionary.keys())\n",
    "\n",
    "def letter_to_token(letter):\n",
    "    if letter in dictionary.keys():\n",
    "        return dictionary[letter]\n",
    "    else:\n",
    "        return 0    "
   ]
  },
  {
   "cell_type": "code",
   "execution_count": 29,
   "id": "9389b1c5",
   "metadata": {
    "ExecuteTime": {
     "end_time": "2022-11-17T05:46:21.930182Z",
     "start_time": "2022-11-17T05:38:55.052550Z"
    }
   },
   "outputs": [],
   "source": [
    "rnn_raw = ml_data['window'].apply(make_string, size=10)\n",
    "\n",
    "window_size = 21\n",
    "rnn_df = pd.DataFrame(np.zeros((len(rnn_raw), window_size)), columns=[i+1 for i in range(window_size)])\n",
    "\n",
    "for i in range(len(rnn_raw)):\n",
    "    window = rnn_raw[i]\n",
    "    for j in range(len(window)):\n",
    "        rnn_df.iloc[i,j] = window[j]\n",
    "        \n",
    "for i in range(window_size):\n",
    "    rnn_df[i+1] = rnn_df[i+1].apply(letter_to_token)\n",
    "    \n",
    "rnn_arr = []\n",
    "for row in rnn_df.to_numpy():\n",
    "    temp = []\n",
    "    for col in row:\n",
    "        if col > 0:\n",
    "            temp.append(np.eye(num_AA)[col-1])\n",
    "        else:\n",
    "            temp.append(np.zeros(num_AA))\n",
    "    rnn_arr.append(temp)\n",
    "rnn_arr = np.array(rnn_arr)"
   ]
  },
  {
   "cell_type": "code",
   "execution_count": 30,
   "id": "3738b26c",
   "metadata": {
    "ExecuteTime": {
     "end_time": "2022-11-17T05:46:21.946112Z",
     "start_time": "2022-11-17T05:46:21.931151Z"
    }
   },
   "outputs": [
    {
     "data": {
      "text/plain": [
       "(42820, 21, 20)"
      ]
     },
     "execution_count": 30,
     "metadata": {},
     "output_type": "execute_result"
    }
   ],
   "source": [
    "rnn_arr.shape\n",
    "# (samples, window length, token size) = (42819, 21, 21)\n",
    "# samples = 42,819 = the size of ml_data \n",
    "# window length = 21= -10/+10 window from the serine or threonine \n",
    "# token size = 21 = 20 + 1 total types of amino acids in protein 20 + Nothing"
   ]
  },
  {
   "cell_type": "code",
   "execution_count": 31,
   "id": "7840c78e",
   "metadata": {
    "ExecuteTime": {
     "end_time": "2022-11-17T05:46:22.151936Z",
     "start_time": "2022-11-17T05:46:21.947110Z"
    }
   },
   "outputs": [
    {
     "name": "stdout",
     "output_type": "stream",
     "text": [
      "train X dataset: (34256, 21, 20)\n",
      "test X dataset: (8564, 21, 20)\n"
     ]
    }
   ],
   "source": [
    "# split train/test dataset\n",
    "random_state=1\n",
    "\n",
    "target_x = rnn_arr\n",
    "target_y = ml_data[['positive']].values\n",
    "split = StratifiedShuffleSplit(n_splits = 1, test_size = test_size, random_state = random_state)\n",
    "for train_index, test_index in split.split(target_x, target_y):\n",
    "    train_rnn_x = target_x[train_index]\n",
    "    train_rnn_y = target_y[train_index]\n",
    "    \n",
    "    test_rnn_x = target_x[test_index]\n",
    "    test_rnn_y = target_y[test_index]\n",
    "    \n",
    "print(f\"train X dataset: {train_rnn_x.shape}\")\n",
    "print(f\"test X dataset: {test_rnn_x.shape}\")"
   ]
  },
  {
   "cell_type": "code",
   "execution_count": 32,
   "id": "a955d56c",
   "metadata": {
    "ExecuteTime": {
     "end_time": "2022-11-17T05:46:22.182939Z",
     "start_time": "2022-11-17T05:46:22.152934Z"
    }
   },
   "outputs": [],
   "source": [
    "from tensorflow.keras.optimizers import Adam\n",
    "\n",
    "def ClassifierLSTM(\n",
    "    history_size, history_dim, class_num,\n",
    "    rnn_layers = 1, rnn_neurons = 100,\n",
    "    dense_layers = 1, dense_neurons = 100,\n",
    "    optimizer = Adam(learning_rate = 0.001, beta_1=0.9, beta_2=0.999), loss=\"binary_crossentropy\", metrics = ['accuracy']\n",
    "):\n",
    "    encoder_input = Input(shape=(history_size, history_dim), name='input_encoder')\n",
    "    \n",
    "    # encoder module\n",
    "    if rnn_layers == 1:\n",
    "        encoder_output, state_h, state_c = LSTM(rnn_neurons, return_state=True, name='encoder_last')(encoder_input)\n",
    "        # encoder_states = [state_h, state_c]\n",
    "        \n",
    "    else:\n",
    "        for i in range(rnn_layers):\n",
    "            #first encoder layer\n",
    "            if i==0: \n",
    "                encoder_output = LSTM(rnn_neurons, return_sequences=True, name=\"encoder_1\")(encoder_input)\n",
    "            #mediate encoder layer\n",
    "            elif i < rnn_layers-1: \n",
    "                encoder_output = LSTM(rnn_neurons, return_sequences=True, name=f\"encoder_{i+1}\")(encoder_output)\n",
    "            #last encoder layer\n",
    "            else: \n",
    "                encoder_output, state_h, state_c  = LSTM(rnn_neurons, return_state=True, name=f\"encoder_last\")(encoder_output)\n",
    "                # encoder_states = [state_h, state_c]\n",
    "    \n",
    "    # dense module\n",
    "    if dense_layers == 1:\n",
    "        dense_output = Dense(dense_neurons, name='dense_1')(encoder_output)\n",
    "    else:\n",
    "        for i in range(dense_layers):\n",
    "            #first dense layer\n",
    "            \n",
    "            if i==0:\n",
    "                dense_output = Dense(dense_neurons, name='dense_1')(encoder_output)\n",
    "            #mediate encoder layer\n",
    "            else:\n",
    "                dense_output = Dense(dense_neurons, name=f'dense_{i+1}')(dense_output)\n",
    "    dense_output = Dense(1, activation='sigmoid', name=f'dense_last')(dense_output)  \n",
    "    \n",
    "    # model compile\n",
    "    model = Model(encoder_input, dense_output)\n",
    "    model.compile(loss=loss,optimizer = optimizer, metrics=metrics)\n",
    "    \n",
    "    return model"
   ]
  },
  {
   "cell_type": "code",
   "execution_count": 33,
   "id": "7a9278c5",
   "metadata": {
    "ExecuteTime": {
     "end_time": "2022-11-17T05:48:59.089155Z",
     "start_time": "2022-11-17T05:46:22.183912Z"
    }
   },
   "outputs": [
    {
     "name": "stdout",
     "output_type": "stream",
     "text": [
      "Epoch 1/1000\n",
      "857/857 - 10s - loss: 0.0732 - accuracy: 0.9873 - val_loss: 0.0699 - val_accuracy: 0.9869 - 10s/epoch - 11ms/step\n",
      "Epoch 2/1000\n",
      "857/857 - 5s - loss: 0.0661 - accuracy: 0.9876 - val_loss: 0.0694 - val_accuracy: 0.9869 - 5s/epoch - 6ms/step\n",
      "Epoch 3/1000\n",
      "857/857 - 6s - loss: 0.0653 - accuracy: 0.9876 - val_loss: 0.0694 - val_accuracy: 0.9869 - 6s/epoch - 6ms/step\n",
      "Epoch 4/1000\n",
      "857/857 - 6s - loss: 0.0644 - accuracy: 0.9876 - val_loss: 0.0734 - val_accuracy: 0.9869 - 6s/epoch - 7ms/step\n",
      "Epoch 5/1000\n",
      "857/857 - 5s - loss: 0.0637 - accuracy: 0.9876 - val_loss: 0.0720 - val_accuracy: 0.9869 - 5s/epoch - 6ms/step\n",
      "Epoch 6/1000\n",
      "857/857 - 5s - loss: 0.0629 - accuracy: 0.9876 - val_loss: 0.0690 - val_accuracy: 0.9869 - 5s/epoch - 6ms/step\n",
      "Epoch 7/1000\n",
      "857/857 - 6s - loss: 0.0619 - accuracy: 0.9876 - val_loss: 0.0690 - val_accuracy: 0.9869 - 6s/epoch - 7ms/step\n",
      "Epoch 8/1000\n",
      "857/857 - 6s - loss: 0.0617 - accuracy: 0.9876 - val_loss: 0.0696 - val_accuracy: 0.9869 - 6s/epoch - 7ms/step\n",
      "Epoch 9/1000\n",
      "857/857 - 6s - loss: 0.0612 - accuracy: 0.9876 - val_loss: 0.0702 - val_accuracy: 0.9869 - 6s/epoch - 7ms/step\n",
      "Epoch 10/1000\n",
      "857/857 - 6s - loss: 0.0593 - accuracy: 0.9875 - val_loss: 0.0699 - val_accuracy: 0.9869 - 6s/epoch - 6ms/step\n",
      "Epoch 11/1000\n",
      "857/857 - 6s - loss: 0.0583 - accuracy: 0.9876 - val_loss: 0.0705 - val_accuracy: 0.9867 - 6s/epoch - 7ms/step\n",
      "Epoch 12/1000\n",
      "857/857 - 6s - loss: 0.0573 - accuracy: 0.9876 - val_loss: 0.0721 - val_accuracy: 0.9867 - 6s/epoch - 7ms/step\n",
      "Epoch 13/1000\n",
      "857/857 - 6s - loss: 0.0558 - accuracy: 0.9876 - val_loss: 0.0758 - val_accuracy: 0.9866 - 6s/epoch - 7ms/step\n",
      "Epoch 14/1000\n",
      "857/857 - 5s - loss: 0.0544 - accuracy: 0.9877 - val_loss: 0.0706 - val_accuracy: 0.9866 - 5s/epoch - 6ms/step\n",
      "Epoch 15/1000\n",
      "857/857 - 5s - loss: 0.0523 - accuracy: 0.9878 - val_loss: 0.0703 - val_accuracy: 0.9867 - 5s/epoch - 6ms/step\n",
      "Epoch 16/1000\n",
      "857/857 - 6s - loss: 0.0499 - accuracy: 0.9877 - val_loss: 0.0821 - val_accuracy: 0.9856 - 6s/epoch - 7ms/step\n",
      "Epoch 17/1000\n",
      "857/857 - 6s - loss: 0.0474 - accuracy: 0.9882 - val_loss: 0.0754 - val_accuracy: 0.9864 - 6s/epoch - 7ms/step\n",
      "Epoch 18/1000\n",
      "857/857 - 6s - loss: 0.0442 - accuracy: 0.9887 - val_loss: 0.0830 - val_accuracy: 0.9835 - 6s/epoch - 7ms/step\n",
      "Epoch 19/1000\n",
      "857/857 - 6s - loss: 0.0406 - accuracy: 0.9894 - val_loss: 0.0870 - val_accuracy: 0.9870 - 6s/epoch - 7ms/step\n",
      "Epoch 20/1000\n",
      "857/857 - 6s - loss: 0.0368 - accuracy: 0.9899 - val_loss: 0.0832 - val_accuracy: 0.9853 - 6s/epoch - 7ms/step\n",
      "Epoch 21/1000\n",
      "857/857 - 6s - loss: 0.0346 - accuracy: 0.9899 - val_loss: 0.0986 - val_accuracy: 0.9857 - 6s/epoch - 7ms/step\n",
      "Epoch 22/1000\n",
      "857/857 - 6s - loss: 0.0305 - accuracy: 0.9909 - val_loss: 0.0962 - val_accuracy: 0.9857 - 6s/epoch - 6ms/step\n",
      "Epoch 23/1000\n",
      "857/857 - 6s - loss: 0.0276 - accuracy: 0.9912 - val_loss: 0.1021 - val_accuracy: 0.9832 - 6s/epoch - 7ms/step\n",
      "Epoch 24/1000\n",
      "857/857 - 6s - loss: 0.0229 - accuracy: 0.9927 - val_loss: 0.1076 - val_accuracy: 0.9858 - 6s/epoch - 7ms/step\n",
      "Epoch 25/1000\n",
      "857/857 - 6s - loss: 0.0195 - accuracy: 0.9938 - val_loss: 0.1292 - val_accuracy: 0.9848 - 6s/epoch - 7ms/step\n",
      "Epoch 26/1000\n",
      "857/857 - 5s - loss: 0.0165 - accuracy: 0.9946 - val_loss: 0.1450 - val_accuracy: 0.9837 - 5s/epoch - 6ms/step\n",
      "Epoch 27/1000\n",
      "857/857 - 5s - loss: 0.0139 - accuracy: 0.9951 - val_loss: 0.1321 - val_accuracy: 0.9856 - 5s/epoch - 6ms/step\n",
      "model is saved to: ./model/basicRNN 107 1 5 100 1 v0.h5\n",
      "history is saved to: ./result/basicRNN 107 1 5 100 1 v0.csv\n"
     ]
    }
   ],
   "source": [
    "model_type = 'basicRNN'\n",
    "\n",
    "history_size = test_rnn_x.shape[1]\n",
    "history_dim = test_rnn_x.shape[2]\n",
    "y_dim = test_rnn_y.shape[1]\n",
    "rnn_layers = 1\n",
    "rnn_neurons = 100\n",
    "dense_layers = 2\n",
    "dense_neurons = 100\n",
    "\n",
    "\n",
    "patience = 20\n",
    "early_stopping_cb = EarlyStopping(patience=patience, restore_best_weights=True, monitor='val_loss')\n",
    "\n",
    "\n",
    "rnn_model = ClassifierLSTM(history_size, history_dim, y_dim,\n",
    "                           rnn_layers = rnn_layers, \n",
    "                           rnn_neurons = rnn_neurons,\n",
    "                           dense_layers = dense_layers, \n",
    "                           dense_neurons = dense_neurons\n",
    "                          ) \n",
    "\n",
    "model_name   = f\"{model_type} {x_dim} {y_dim} {n_layers} {n_neurons} {random_state} {version}\"\n",
    "save_path    = f\"./model/{model_name}.h5\"\n",
    "history_path = f\"./result/{model_name}.csv\"\n",
    "\n",
    "if not exists(save_path) or update:\n",
    "    tf.random.set_seed(random_state)\n",
    "    time_start = time.time()\n",
    "    history = rnn_model.fit(train_rnn_x, train_rnn_y, verbose=2,\n",
    "                                 epochs=1000, callbacks=[early_stopping_cb], validation_split= valid_size)\n",
    "    time_end = time.time()\n",
    "    time_elapse = round((time_end - time_start)/60, 3)\n",
    "    history_df = pd.DataFrame(history.history)\n",
    "    history_df.index.name = f\"{time_elapse} min\"\n",
    "\n",
    "    rnn_model.save_weights(save_path)\n",
    "    print(f\"model is saved to: {save_path}\")\n",
    "\n",
    "    history_df.to_csv(history_path)\n",
    "    print(f\"history is saved to: {history_path}\")\n",
    "\n",
    "else:\n",
    "    rnn_model.load_weights(save_path)\n",
    "    print(f\"model is loaded from: {save_path}\")\n",
    "\n",
    "    history_df = pd.read_csv(history_path, index_col=0, header=0)\n",
    "    print(f\"history is loaded from: {history_path}\")"
   ]
  },
  {
   "cell_type": "code",
   "execution_count": null,
   "id": "d9beb264",
   "metadata": {},
   "outputs": [],
   "source": [
    "predictions_arr = np.array(predictions)\n",
    "prediction_soft = predictions_arr.mean(0)\n",
    "prediction_soft = prediction_soft.round(0).astype(int)\n",
    "\n",
    "# plot result\n",
    "y_real = test_y.values\n",
    "y_pred = prediction_soft\n",
    "\n",
    "plot_confusion(y_real, y_pred, title=model_type, label=[\"Positive\",\"Negative\"])"
   ]
  }
 ],
 "metadata": {
  "kernelspec": {
   "display_name": "Dual Attention",
   "language": "python",
   "name": "dualattn"
  },
  "language_info": {
   "codemirror_mode": {
    "name": "ipython",
    "version": 3
   },
   "file_extension": ".py",
   "mimetype": "text/x-python",
   "name": "python",
   "nbconvert_exporter": "python",
   "pygments_lexer": "ipython3",
   "version": "3.7.13"
  },
  "toc": {
   "base_numbering": 1,
   "nav_menu": {},
   "number_sections": true,
   "sideBar": true,
   "skip_h1_title": false,
   "title_cell": "Table of Contents",
   "title_sidebar": "Contents",
   "toc_cell": false,
   "toc_position": {
    "height": "calc(100% - 180px)",
    "left": "10px",
    "top": "150px",
    "width": "384px"
   },
   "toc_section_display": true,
   "toc_window_display": true
  }
 },
 "nbformat": 4,
 "nbformat_minor": 5
}
