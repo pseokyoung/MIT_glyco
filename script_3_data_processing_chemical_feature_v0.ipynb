{
 "cells": [
  {
   "cell_type": "code",
   "execution_count": 16,
   "id": "ea0c5c47-0e14-4d3d-9c46-97bae7d9e386",
   "metadata": {
    "ExecuteTime": {
     "end_time": "2022-12-15T02:46:39.799618Z",
     "start_time": "2022-12-15T02:46:38.219403Z"
    }
   },
   "outputs": [
    {
     "data": {
      "text/plain": [
       "'D:\\\\project\\\\MIT_glyco'"
      ]
     },
     "execution_count": 16,
     "metadata": {},
     "output_type": "execute_result"
    }
   ],
   "source": [
    "import pandas as pd\n",
    "import numpy as np\n",
    "\n",
    "import time\n",
    "from os import getcwd \n",
    "from os.path import exists\n",
    "\n",
    "getcwd() # current working directory"
   ]
  },
  {
   "cell_type": "code",
   "execution_count": 17,
   "id": "a34bbb10",
   "metadata": {
    "ExecuteTime": {
     "end_time": "2022-12-15T02:46:55.181261Z",
     "start_time": "2022-12-15T02:46:55.177252Z"
    }
   },
   "outputs": [],
   "source": [
    "version = 'v0'\n",
    "update = False"
   ]
  },
  {
   "cell_type": "code",
   "execution_count": 52,
   "id": "4692b788",
   "metadata": {
    "ExecuteTime": {
     "end_time": "2022-12-15T02:55:46.467226Z",
     "start_time": "2022-12-15T02:55:46.431752Z"
    }
   },
   "outputs": [
    {
     "name": "stdout",
     "output_type": "stream",
     "text": [
      "(286, 3)\n",
      "(275, 3)\n"
     ]
    }
   ],
   "source": [
    "save_name = \"all_sites_group.csv\"\n",
    "all_sites = pd.read_csv(save_name)\n",
    "print(all_sites.shape)\n",
    "all_sites = all_sites.drop_duplicates(['name'], keep = 'first')\n",
    "print(all_sites.shape)"
   ]
  },
  {
   "cell_type": "markdown",
   "id": "0ce6a29d-acf9-42e9-99e2-9a7729fbde7c",
   "metadata": {},
   "source": [
    "> There are 11 duplicated proteins out of 286"
   ]
  },
  {
   "cell_type": "code",
   "execution_count": 61,
   "id": "83ba7788-e97e-4564-8736-b140cd5e8bae",
   "metadata": {},
   "outputs": [
    {
     "data": {
      "text/plain": [
       "['A0A024RAY2',\n",
       " 'P0CG62',\n",
       " 'P63249',\n",
       " 'P68406',\n",
       " 'Q4R561_P60710',\n",
       " 'Q62381',\n",
       " 'Q69ZI1',\n",
       " 'Q80TI1',\n",
       " 'Q80TR8',\n",
       " 'Q80YE7',\n",
       " 'Q8BXL9',\n",
       " 'Q91YE8',\n",
       " 'Q9WVB1']"
      ]
     },
     "execution_count": 61,
     "metadata": {},
     "output_type": "execute_result"
    }
   ],
   "source": [
    "import os\n",
    "\n",
    "all_sites['exists'] = all_sites['name'].apply(lambda x: exists(f'./protein_chem/{x}'))\n",
    "folder_exist = all_sites[all_sites['exists']==True]\n",
    "\n",
    "folder_list = os.listdir('./protein_chem')\n",
    "exist_list = []\n",
    "for name in folder_exist['name']:\n",
    "    exist_list.append(folder_list.pop(folder_list.index(name)))\n",
    "\n",
    "folder_list"
   ]
  },
  {
   "cell_type": "code",
   "execution_count": 55,
   "id": "d02f2905-4b50-49c8-b2a2-2b3b9d1eba7a",
   "metadata": {},
   "outputs": [
    {
     "data": {
      "text/plain": [
       "13"
      ]
     },
     "execution_count": 55,
     "metadata": {},
     "output_type": "execute_result"
    }
   ],
   "source": [
    "len(folder_list)"
   ]
  },
  {
   "cell_type": "markdown",
   "id": "db4a9986-05e7-4b73-b9d0-5267fa7b7bb7",
   "metadata": {},
   "source": [
    ">13 out of 101 proteins do not exist in \"all_sites_group.csv\""
   ]
  },
  {
   "cell_type": "code",
   "execution_count": 75,
   "id": "87dccdaa-dd35-4ea6-b977-d7e61d420abd",
   "metadata": {},
   "outputs": [
    {
     "data": {
      "text/plain": [
       "(159,)"
      ]
     },
     "execution_count": 75,
     "metadata": {},
     "output_type": "execute_result"
    }
   ],
   "source": [
    "columns = pd.read_csv(f'./protein_chem/features-all-names.csv', header=None)\n",
    "columns.loc[0].values.shape"
   ]
  },
  {
   "cell_type": "code",
   "execution_count": 78,
   "id": "4b2029f3-0cda-4af0-8586-aae15a2cb703",
   "metadata": {
    "scrolled": true,
    "tags": []
   },
   "outputs": [
    {
     "name": "stdout",
     "output_type": "stream",
     "text": [
      "(198, 158)\n",
      "(273, 1)\n",
      "(104, 1)\n",
      "(85, 1)\n",
      "(129, 1)\n",
      "(100, 1)\n",
      "(48, 1)\n",
      "(33, 1)\n",
      "(70, 1)\n",
      "(24, 1)\n",
      "(41, 1)\n",
      "(329, 1)\n",
      "(58, 1)\n",
      "(32, 1)\n",
      "(133, 1)\n",
      "(72, 1)\n",
      "(104, 1)\n",
      "(78, 1)\n",
      "(213, 1)\n",
      "(82, 1)\n",
      "(49, 1)\n",
      "(77, 1)\n",
      "(513, 1)\n",
      "(531, 1)\n",
      "(57, 1)\n",
      "(117, 1)\n",
      "(48, 1)\n",
      "(42, 1)\n",
      "(203, 1)\n",
      "(103, 1)\n",
      "(105, 1)\n",
      "(104, 1)\n",
      "(126, 1)\n",
      "(83, 1)\n",
      "(224, 1)\n",
      "(70, 1)\n",
      "(54, 1)\n",
      "(35, 1)\n",
      "(59, 1)\n",
      "(121, 1)\n",
      "(213, 1)\n",
      "(99, 1)\n",
      "(148, 1)\n",
      "(241, 1)\n",
      "(282, 1)\n",
      "(127, 1)\n",
      "(173, 1)\n",
      "(168, 1)\n",
      "(97, 1)\n",
      "(130, 1)\n",
      "(82, 1)\n",
      "(160, 1)\n",
      "(130, 1)\n",
      "(81, 1)\n",
      "(137, 1)\n",
      "(106, 1)\n",
      "(21, 1)\n",
      "(73, 1)\n",
      "(134, 1)\n",
      "(129, 1)\n",
      "(164, 1)\n",
      "(202, 1)\n",
      "(48, 1)\n",
      "(126, 1)\n",
      "(77, 1)\n",
      "(79, 1)\n",
      "(102, 1)\n",
      "(347, 1)\n",
      "(13, 1)\n",
      "(88, 1)\n",
      "(75, 1)\n",
      "(32, 1)\n",
      "(91, 1)\n",
      "(97, 1)\n",
      "(69, 1)\n",
      "(79, 1)\n",
      "(27, 1)\n",
      "(27, 1)\n",
      "(30, 1)\n",
      "(42, 1)\n",
      "(63, 1)\n",
      "(29, 1)\n",
      "(192, 1)\n",
      "(163, 1)\n",
      "(67, 1)\n",
      "(93, 1)\n",
      "(128, 1)\n",
      "(134, 1)\n"
     ]
    }
   ],
   "source": [
    "for name in exist_list:\n",
    "    print(pd.read_csv(f'./protein_chem/{name}/combined-output-all-features.csv').shape)"
   ]
  },
  {
   "cell_type": "markdown",
   "id": "98be052b-9a8e-45ec-bfc9-a0c5baa4770a",
   "metadata": {},
   "source": [
    "> only protein A2ABU4 has 156 features and other 87 proteins are not the type of comma separated value(csv) files."
   ]
  }
 ],
 "metadata": {
  "kernelspec": {
   "display_name": "glyco",
   "language": "python",
   "name": "glyco"
  },
  "language_info": {
   "codemirror_mode": {
    "name": "ipython",
    "version": 3
   },
   "file_extension": ".py",
   "mimetype": "text/x-python",
   "name": "python",
   "nbconvert_exporter": "python",
   "pygments_lexer": "ipython3",
   "version": "3.9.13"
  },
  "toc": {
   "base_numbering": 1,
   "nav_menu": {},
   "number_sections": true,
   "sideBar": true,
   "skip_h1_title": false,
   "title_cell": "Table of Contents",
   "title_sidebar": "Contents",
   "toc_cell": false,
   "toc_position": {
    "height": "calc(100% - 180px)",
    "left": "10px",
    "top": "150px",
    "width": "384px"
   },
   "toc_section_display": true,
   "toc_window_display": true
  }
 },
 "nbformat": 4,
 "nbformat_minor": 5
}
